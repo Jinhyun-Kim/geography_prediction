{
 "cells": [
  {
   "cell_type": "markdown",
   "id": "203f8d8c-b0f1-4d6f-b08d-85084381d1b5",
   "metadata": {},
   "source": [
    "# 0. System Check"
   ]
  },
  {
   "cell_type": "code",
   "execution_count": 1,
   "id": "cb932510",
   "metadata": {
    "scrolled": true
   },
   "outputs": [
    {
     "name": "stdout",
     "output_type": "stream",
     "text": [
      "Thu Feb  8 01:41:38 2024       \n",
      "+-----------------------------------------------------------------------------+\n",
      "| NVIDIA-SMI 525.147.05   Driver Version: 525.147.05   CUDA Version: 12.0     |\n",
      "|-------------------------------+----------------------+----------------------+\n",
      "| GPU  Name        Persistence-M| Bus-Id        Disp.A | Volatile Uncorr. ECC |\n",
      "| Fan  Temp  Perf  Pwr:Usage/Cap|         Memory-Usage | GPU-Util  Compute M. |\n",
      "|                               |                      |               MIG M. |\n",
      "|===============================+======================+======================|\n",
      "|   0  NVIDIA GeForce ...  Off  | 00000000:01:00.0 Off |                  Off |\n",
      "|  0%   32C    P8    24W / 450W |     71MiB / 24564MiB |      0%      Default |\n",
      "|                               |                      |                  N/A |\n",
      "+-------------------------------+----------------------+----------------------+\n",
      "                                                                               \n",
      "+-----------------------------------------------------------------------------+\n",
      "| Processes:                                                                  |\n",
      "|  GPU   GI   CI        PID   Type   Process name                  GPU Memory |\n",
      "|        ID   ID                                                   Usage      |\n",
      "|=============================================================================|\n",
      "|    0   N/A  N/A      1611      G   /usr/lib/xorg/Xorg                 56MiB |\n",
      "|    0   N/A  N/A      1762      G   /usr/bin/gnome-shell               12MiB |\n",
      "+-----------------------------------------------------------------------------+\n"
     ]
    }
   ],
   "source": [
    "!nvidia-smi"
   ]
  },
  {
   "cell_type": "markdown",
   "id": "e26a0d19",
   "metadata": {},
   "source": [
    "# 1. Module"
   ]
  },
  {
   "cell_type": "code",
   "execution_count": 2,
   "id": "b86801ee",
   "metadata": {},
   "outputs": [],
   "source": [
    "import pandas as pd\n",
    "import numpy as np\n",
    "from sklearn.model_selection import train_test_split, GridSearchCV\n",
    "from sklearn.preprocessing import StandardScaler\n",
    "from sklearn.metrics import accuracy_score\n",
    "from sklearn.preprocessing import LabelEncoder\n",
    "from sklearn.svm import SVC\n",
    "from sklearn.linear_model import Ridge\n",
    "from sklearn.tree import DecisionTreeClassifier\n",
    "from sklearn.ensemble import RandomForestClassifier, GradientBoostingClassifier\n",
    "from xgboost import XGBClassifier\n",
    "from sklearn.metrics import f1_score, confusion_matrix\n",
    "import seaborn as sns\n",
    "import matplotlib.pyplot as plt\n",
    "import joblib \n",
    "\n",
    "import os, logging\n",
    "from tqdm import tqdm\n",
    "import time\n",
    "from helpers import get_ip_address, has_write_permission, save_preprocessed_data, read_preprocessed_data\n",
    "\n",
    "import warnings\n",
    "# 경고 메시지 무시\n",
    "warnings.filterwarnings(\"ignore\")"
   ]
  },
  {
   "cell_type": "markdown",
   "id": "4a746870",
   "metadata": {},
   "source": [
    "# 2. Data Load_Y"
   ]
  },
  {
   "cell_type": "code",
   "execution_count": 3,
   "id": "dde3c6a0",
   "metadata": {},
   "outputs": [],
   "source": [
    "data_locations = {\n",
    "    '223.195.111.48': '/project/datacamp/team11/data',\n",
    "    '147.47.44.229': '/home/jinhyun/data/1kGP',\n",
    "}\n",
    "\n",
    "chr_list = [str(x) for x in range(1,23)]\n",
    "gt_dict = {\"0|0\" :0, \"0|1\" : 1, \"1|0\" : 2, \"1|1\" : 3 } # genotype dict for converting string-> inteter "
   ]
  },
  {
   "cell_type": "code",
   "execution_count": 4,
   "id": "b343892b",
   "metadata": {},
   "outputs": [],
   "source": [
    "raw_data_path = data_locations.get(get_ip_address(), '/not_found')\n",
    "sample_annotation_file = os.path.join(raw_data_path, \"igsr-1000 genomes 30x on grch38.tsv\")\n",
    "preprocess_path = os.path.join(raw_data_path, \"preprocessed\")\n",
    "\n",
    "assert os.path.exists(preprocess_path), f\"Data path not exists: {raw_data_path} OR IP setting is incorrect: {get_ip_address()}\"\n",
    "assert os.path.isfile(sample_annotation_file), f\"File not exists : {sample_annotation_file}\"\n",
    "assert has_write_permission(preprocess_path), f\"You do not have write permission for {preprocess_path}\""
   ]
  },
  {
   "cell_type": "code",
   "execution_count": 5,
   "id": "46daeca1",
   "metadata": {},
   "outputs": [
    {
     "name": "stdout",
     "output_type": "stream",
     "text": [
      "Read sample annotation info with shape : (3202, 9)\n"
     ]
    }
   ],
   "source": [
    "sample_annotation_df = pd.read_csv(sample_annotation_file, sep=\"\\t\")\n",
    "print(f\"Read sample annotation info with shape : {sample_annotation_df.shape}\")"
   ]
  },
  {
   "cell_type": "code",
   "execution_count": null,
   "id": "8a7cddc9-986e-414f-ab8c-697a0960c8c4",
   "metadata": {},
   "outputs": [],
   "source": [
    "# sample_annotation_df"
   ]
  },
  {
   "cell_type": "markdown",
   "id": "683d6de1-4af3-424b-9ad3-77bc28f5dfca",
   "metadata": {},
   "source": [
    "## Superpopulation code"
   ]
  },
  {
   "cell_type": "code",
   "execution_count": null,
   "id": "1f23d490",
   "metadata": {},
   "outputs": [],
   "source": [
    "# continent = sample_annotation_df['Superpopulation code']\n",
    "# continent"
   ]
  },
  {
   "cell_type": "markdown",
   "id": "fc103b5f-080c-4d9b-b84c-80f5f1ab27d0",
   "metadata": {},
   "source": [
    "## Population code"
   ]
  },
  {
   "cell_type": "code",
   "execution_count": 6,
   "id": "129145a6-1923-4fef-88ad-90f066e2854e",
   "metadata": {},
   "outputs": [
    {
     "name": "stdout",
     "output_type": "stream",
     "text": [
      "Index([2192], dtype='int64')\n"
     ]
    },
    {
     "data": {
      "text/plain": [
       "0       FIN\n",
       "1       FIN\n",
       "2       FIN\n",
       "3       FIN\n",
       "4       FIN\n",
       "       ... \n",
       "3197    GIH\n",
       "3198    GIH\n",
       "3199    GIH\n",
       "3200    GIH\n",
       "3201    CEU\n",
       "Name: Population code, Length: 3201, dtype: object"
      ]
     },
     "execution_count": 6,
     "metadata": {},
     "output_type": "execute_result"
    }
   ],
   "source": [
    "remove_row = sample_annotation_df[sample_annotation_df['Population code'] == 'IBS,MSL']\n",
    "print(remove_row.index)\n",
    "\n",
    "New_sample_annotation_df_ = sample_annotation_df.drop(remove_row.index)\n",
    "\n",
    "\n",
    "# print(New_sample_annotation_df_)\n",
    "New_sample_annotation_df_.value_counts('Population code')\n",
    "\n",
    "continent = New_sample_annotation_df_['Population code']\n",
    "continent"
   ]
  },
  {
   "cell_type": "markdown",
   "id": "2aef402e-79be-4c4f-8fc5-d7ba97641742",
   "metadata": {},
   "source": [
    "# 3. Data_Load_X"
   ]
  },
  {
   "cell_type": "markdown",
   "id": "fea0dd5e-1e62-4fd1-9896-ccc929598c00",
   "metadata": {
    "jp-MarkdownHeadingCollapsed": true
   },
   "source": [
    "## 3.1 merged_random_100_matrix"
   ]
  },
  {
   "cell_type": "code",
   "execution_count": null,
   "id": "ef0ab7ad-89f9-457a-9201-d3e8b7a7f4a6",
   "metadata": {},
   "outputs": [],
   "source": [
    "npy_path = '/project/datacamp/team11/data/preprocessed/merged_random_100_matrix.npy'\n",
    "data = np.load(npy_path)\n",
    "\n",
    "X = data\n",
    "y = continent"
   ]
  },
  {
   "cell_type": "markdown",
   "id": "5fef1628-37eb-4977-ae77-e956840b2573",
   "metadata": {
    "jp-MarkdownHeadingCollapsed": true
   },
   "source": [
    "## 3.2 merged_random_1k_matrix"
   ]
  },
  {
   "cell_type": "code",
   "execution_count": null,
   "id": "69da4e9f-620f-4bff-ba14-0e45902c07b1",
   "metadata": {},
   "outputs": [],
   "source": [
    "npy_path = '/project/datacamp/team11/data/preprocessed/merged_random_1k_matrix.npy'\n",
    "data = np.load(npy_path)\n",
    "\n",
    "X = data\n",
    "y = continent"
   ]
  },
  {
   "cell_type": "markdown",
   "id": "4d2ebfad-4977-4ea5-be95-e272ddd1eecd",
   "metadata": {
    "jp-MarkdownHeadingCollapsed": true
   },
   "source": [
    "## 3.3 merged_random_10k_matrix"
   ]
  },
  {
   "cell_type": "code",
   "execution_count": 33,
   "id": "6dd20be9-9a75-4d24-809e-30c56a57cf00",
   "metadata": {},
   "outputs": [],
   "source": [
    "npy_path = '/project/datacamp/team11/data/preprocessed/merged_random_10k_annotated_matrix.npy'\n",
    "data = np.load(npy_path)\n",
    "\n",
    "X = data\n",
    "y = continent"
   ]
  },
  {
   "cell_type": "markdown",
   "id": "cd201524-ee03-4d9c-b64f-9f525bb6d7aa",
   "metadata": {},
   "source": [
    "## 3.4 merged_random_100k_matrix"
   ]
  },
  {
   "cell_type": "code",
   "execution_count": null,
   "id": "37475d0e-14d0-4f98-af44-8c4b03022465",
   "metadata": {},
   "outputs": [],
   "source": [
    "npy_path = '/project/datacamp/team11/data/preprocessed/merged_random_100k_matrix.npy'\n",
    "data = np.load(npy_path)\n",
    "\n",
    "X = data\n",
    "y = continent"
   ]
  },
  {
   "cell_type": "markdown",
   "id": "770982e4-c178-42c7-89ff-23fb3e3e9955",
   "metadata": {
    "jp-MarkdownHeadingCollapsed": true
   },
   "source": [
    "## 3.5 merged_random_1M_matrix"
   ]
  },
  {
   "cell_type": "code",
   "execution_count": null,
   "id": "62afb4af-5074-4e27-8f3f-4feff137309d",
   "metadata": {},
   "outputs": [],
   "source": [
    "npy_path = '/project/datacamp/team11/data/preprocessed/merged_random_1M_matrix.npy'\n",
    "data = np.load(npy_path)\n",
    "\n",
    "X = data\n",
    "y = continent"
   ]
  },
  {
   "cell_type": "markdown",
   "id": "87bed57e-e446-4d5d-a774-2d447d04a7d0",
   "metadata": {
    "jp-MarkdownHeadingCollapsed": true
   },
   "source": [
    "## 3.6 merged_zerofilter_0.0005_matrix"
   ]
  },
  {
   "cell_type": "code",
   "execution_count": null,
   "id": "b9fa616f-ecfb-4127-86f3-a188e2fc62b8",
   "metadata": {},
   "outputs": [],
   "source": [
    "npy_path = '/project/datacamp/team11/data/preprocessed/merged_zerofilter_0.0005_matrix.npy'\n",
    "data = np.load(npy_path)\n",
    "\n",
    "X = data\n",
    "y = continent"
   ]
  },
  {
   "cell_type": "markdown",
   "id": "209c28f8-0266-431b-a2bf-b70e345bf290",
   "metadata": {},
   "source": [
    "## Data of Population_name"
   ]
  },
  {
   "cell_type": "code",
   "execution_count": 34,
   "id": "e5ef4254-6fe2-4dd7-ab58-e07ecbbb7ca8",
   "metadata": {},
   "outputs": [
    {
     "name": "stdout",
     "output_type": "stream",
     "text": [
      "[[0 4 0 ... 8 0 7]\n",
      " [0 4 0 ... 8 0 7]\n",
      " [0 4 0 ... 8 0 7]\n",
      " ...\n",
      " [0 4 0 ... 8 0 7]\n",
      " [0 4 0 ... 8 0 7]\n",
      " [0 4 0 ... 8 0 7]]\n",
      "(3201, 20000)\n"
     ]
    }
   ],
   "source": [
    "X = np.delete(X, 2192, axis=0)\n",
    "print(X)\n",
    "print(X.shape)"
   ]
  },
  {
   "cell_type": "markdown",
   "id": "6dc9f625-8774-4ef0-a0cf-1186f14ad659",
   "metadata": {},
   "source": [
    "## Data Check"
   ]
  },
  {
   "cell_type": "code",
   "execution_count": 35,
   "id": "11a3cd9e",
   "metadata": {
    "scrolled": true
   },
   "outputs": [
    {
     "name": "stdout",
     "output_type": "stream",
     "text": [
      "[[0 4 0 ... 8 0 7]\n",
      " [0 4 0 ... 8 0 7]\n",
      " [0 4 0 ... 8 0 7]\n",
      " ...\n",
      " [0 4 0 ... 8 0 7]\n",
      " [0 4 0 ... 8 0 7]\n",
      " [0 4 0 ... 8 0 7]]\n",
      "(3201, 20000)\n",
      "0       FIN\n",
      "1       FIN\n",
      "2       FIN\n",
      "3       FIN\n",
      "4       FIN\n",
      "       ... \n",
      "3197    GIH\n",
      "3198    GIH\n",
      "3199    GIH\n",
      "3200    GIH\n",
      "3201    CEU\n",
      "Name: Population code, Length: 3201, dtype: object\n",
      "(3201,)\n"
     ]
    }
   ],
   "source": [
    "print(X)\n",
    "print(X.shape)\n",
    "print(y)\n",
    "print(y.shape)"
   ]
  },
  {
   "cell_type": "markdown",
   "id": "5d154616-900f-45da-ae71-30b28fa53e54",
   "metadata": {},
   "source": [
    "## Data_Split"
   ]
  },
  {
   "cell_type": "code",
   "execution_count": 36,
   "id": "ecdd8a8f",
   "metadata": {},
   "outputs": [],
   "source": [
    "# 데이터를 훈련 세트와 테스트 세트로 분할\n",
    "random_seed = 42\n",
    "X_train, X_test, y_train, y_test = train_test_split(X, y, test_size=0.2, random_state=random_seed)\n"
   ]
  },
  {
   "cell_type": "code",
   "execution_count": 37,
   "id": "5415a2d5-0601-423a-9715-eb8e3f6ab2c4",
   "metadata": {},
   "outputs": [
    {
     "name": "stdout",
     "output_type": "stream",
     "text": [
      "(2560, 20000)\n",
      "(641, 20000)\n",
      "561     MSL\n",
      "282     IBS\n",
      "1465    PUR\n",
      "1576    IBS\n",
      "807     ITU\n",
      "       ... \n",
      "1095    YRI\n",
      "1130    MXL\n",
      "1294    GIH\n",
      "860     STU\n",
      "3175    ASW\n",
      "Name: Population code, Length: 2560, dtype: object\n",
      "1374    FIN\n",
      "1195    MXL\n",
      "2938    STU\n",
      "1506    PUR\n",
      "214     CLM\n",
      "       ... \n",
      "43      CHS\n",
      "87      FIN\n",
      "1812    IBS\n",
      "2939    TSI\n",
      "2479    YRI\n",
      "Name: Population code, Length: 641, dtype: object\n"
     ]
    }
   ],
   "source": [
    "print(X_train.shape)\n",
    "print(X_test.shape)\n",
    "print(y_train)\n",
    "print(y_test)"
   ]
  },
  {
   "cell_type": "markdown",
   "id": "23f70faf-065a-44c2-9956-e7336d85a165",
   "metadata": {},
   "source": [
    "# 4. Modeling"
   ]
  },
  {
   "cell_type": "markdown",
   "id": "35f97007",
   "metadata": {},
   "source": [
    "## 4.1 SVM"
   ]
  },
  {
   "cell_type": "code",
   "execution_count": null,
   "id": "b5e57287",
   "metadata": {},
   "outputs": [],
   "source": [
    "# from sklearn.model_selection import train_test_split\n",
    "# from sklearn.svm import SVC\n",
    "# from sklearn.model_selection import GridSearchCV\n",
    "# from sklearn.metrics import accuracy_score\n",
    "# import time\n",
    "\n",
    "# svm_model = SVC()\n",
    "# param_grid = {'C': [0.1, 1, 10], 'gamma': [0.01, 0.1, 1], 'kernel': ['linear', 'rbf']}\n",
    "# grid_search = GridSearchCV(svm_model, param_grid, cv=2, n_jobs=-1, verbose=2)\n",
    "\n",
    "# grid_search.fit(X_train, y_train)\n",
    "# print(\"Best Parameters: \", grid_search.best_params_)\n",
    "# best_svm_model = grid_search.best_estimator_\n",
    "# best_svm_model_params = grid_search.best_params_\n",
    "# y_pred = best_svm_model.predict(X_test)"
   ]
  },
  {
   "cell_type": "markdown",
   "id": "69e3f4c2",
   "metadata": {},
   "source": [
    "### 4.1.1 1M SVM(Previous parameters)"
   ]
  },
  {
   "cell_type": "code",
   "execution_count": 38,
   "id": "9732522e-9aa7-431f-a3a8-ab0589ddf96e",
   "metadata": {},
   "outputs": [
    {
     "name": "stdout",
     "output_type": "stream",
     "text": [
      "Start time: 2024-02-08 01:54:00\n",
      "Model fitting end time: 2024-02-08 01:54:37\n",
      "End time: 2024-02-08 01:54:47\n",
      "Total model fitting time: 0 minutes 36 seconds\n",
      "Total prediction time: 0 minutes 10 seconds\n"
     ]
    }
   ],
   "source": [
    "best_params = {'C': 1, 'gamma': 0.01, 'kernel': 'linear'} # 100\n",
    "previous_best_params = {'C': 10, 'gamma': 0.01, 'kernel': 'rbf'} # 1k\n",
    "previous_best_params = {'C': 0.1, 'gamma': 0.01, 'kernel': 'linear'} \n",
    "svm_model = SVC(**previous_best_params)\n",
    "\n",
    "start_time = time.time()\n",
    "\n",
    "svm_model.fit(X_train, y_train)\n",
    "\n",
    "fitting_end_time = time.time()\n",
    "\n",
    "y_pred = svm_model.predict(X_test)\n",
    "\n",
    "end_time = time.time()\n",
    "\n",
    "fitting_elapsed_time = fitting_end_time - start_time\n",
    "prediction_elapsed_time = end_time - fitting_end_time\n",
    "\n",
    "fitting_minutes = int(fitting_elapsed_time // 60)\n",
    "fitting_seconds = int(fitting_elapsed_time % 60)\n",
    "\n",
    "prediction_minutes = int(prediction_elapsed_time // 60)\n",
    "prediction_seconds = int(prediction_elapsed_time % 60)\n",
    "\n",
    "start_time_formatted = time.strftime(\"%Y-%m-%d %H:%M:%S\", time.localtime(start_time))\n",
    "fitting_end_time_formatted = time.strftime(\"%Y-%m-%d %H:%M:%S\", time.localtime(fitting_end_time))\n",
    "end_time_formatted = time.strftime(\"%Y-%m-%d %H:%M:%S\", time.localtime(end_time))\n",
    "\n",
    "print(f\"Start time: {start_time_formatted}\")\n",
    "print(f\"Model fitting end time: {fitting_end_time_formatted}\")\n",
    "print(f\"End time: {end_time_formatted}\")\n",
    "print(f\"Total model fitting time: {fitting_minutes} minutes {fitting_seconds} seconds\")\n",
    "print(f\"Total prediction time: {prediction_minutes} minutes {prediction_seconds} seconds\")\n"
   ]
  },
  {
   "cell_type": "code",
   "execution_count": 39,
   "id": "161d6b32-d49d-4250-bdd3-a4ceb5b54ad6",
   "metadata": {},
   "outputs": [
    {
     "name": "stdout",
     "output_type": "stream",
     "text": [
      "Total model fitting and prediction time: 47.265421628952026 seconds\n"
     ]
    }
   ],
   "source": [
    "end_time = time.time()\n",
    "elapsed_time_seconds = end_time - start_time\n",
    "\n",
    "print(f\"Total model fitting and prediction time: {elapsed_time_seconds} seconds\")"
   ]
  },
  {
   "cell_type": "markdown",
   "id": "f9331f19-bd30-4f15-9c66-41f073b6769e",
   "metadata": {
    "jp-MarkdownHeadingCollapsed": true
   },
   "source": [
    "## 4.2 Parameter load"
   ]
  },
  {
   "cell_type": "markdown",
   "id": "6b421ec2-0366-4100-b1e2-4965bc2d9c95",
   "metadata": {},
   "source": [
    "### 4.2.1 merged_random_100_matrix"
   ]
  },
  {
   "cell_type": "code",
   "execution_count": null,
   "id": "abdeb3a9",
   "metadata": {},
   "outputs": [],
   "source": [
    "joblib.dump(best_svm_model, 'best_svm_model100.joblib')\n",
    "\n",
    "with open('best_params100.txt', 'w') as f:\n",
    "    f.write(str(grid_search.best_params_))\n",
    "#######################################################\n",
    "loaded_model = joblib.load('best_svm_model100.joblib')\n",
    "\n",
    "with open('best_params100.txt', 'r') as f:\n",
    "    loaded_params = eval(f.read())\n",
    "\n",
    "y_pred = loaded_model.predict(X_test)"
   ]
  },
  {
   "cell_type": "markdown",
   "id": "c5933666-d77b-4456-a838-d9908fff44a4",
   "metadata": {},
   "source": [
    "### 4.2.2 merged_random_1k_matrix"
   ]
  },
  {
   "cell_type": "code",
   "execution_count": null,
   "id": "0d943cb3-b9c3-4369-9dbe-ce3e237c094a",
   "metadata": {},
   "outputs": [],
   "source": [
    "joblib.dump(best_svm_model, 'best_svm_model1k.joblib')\n",
    "\n",
    "with open('best_params1k.txt', 'w') as f:\n",
    "    f.write(str(grid_search.best_params_))\n",
    "#######################################################\n",
    "loaded_model = joblib.load('best_svm_model1k.joblib')\n",
    "\n",
    "with open('best_params1k.txt', 'r') as f:\n",
    "    loaded_params = eval(f.read())\n",
    "\n",
    "y_pred = loaded_model.predict(X_test)"
   ]
  },
  {
   "cell_type": "markdown",
   "id": "27cb8342-145e-49d7-baa7-45976e31f7d1",
   "metadata": {},
   "source": [
    "### 4.2.3 merged_random_10k_matrix"
   ]
  },
  {
   "cell_type": "code",
   "execution_count": null,
   "id": "2b194e21-21f5-4611-9243-cc84401c0f3c",
   "metadata": {},
   "outputs": [],
   "source": [
    "joblib.dump(best_svm_model, 'best_svm_model10k.joblib')\n",
    "\n",
    "with open('best_params10k.txt', 'w') as f:\n",
    "    f.write(str(grid_search.best_params_))\n",
    "#######################################################\n",
    "loaded_model = joblib.load('best_svm_model10k.joblib')\n",
    "\n",
    "with open('best_params10k.txt', 'r') as f:\n",
    "    loaded_params = eval(f.read())\n",
    "\n",
    "y_pred = loaded_model.predict(X_test)"
   ]
  },
  {
   "cell_type": "markdown",
   "id": "e8122baa-2f9f-424c-82b0-941597e1e9d6",
   "metadata": {},
   "source": [
    "### 4.2.4 merged_random_100k_matrix"
   ]
  },
  {
   "cell_type": "code",
   "execution_count": null,
   "id": "56dfc7d3-cfaf-449a-b818-4fb105033f3e",
   "metadata": {},
   "outputs": [],
   "source": [
    "joblib.dump(best_svm_model, 'best_svm_model100k.joblib')\n",
    "\n",
    "with open('best_params100k.txt', 'w') as f:\n",
    "    f.write(str(grid_search.best_params_))\n",
    "#######################################################\n",
    "loaded_model = joblib.load('best_svm_model100k.joblib')\n",
    "\n",
    "with open('best_params100k.txt', 'r') as f:\n",
    "    loaded_params = eval(f.read())\n",
    "\n",
    "y_pred = loaded_model.predict(X_test)"
   ]
  },
  {
   "cell_type": "markdown",
   "id": "a79ff85a-8525-492e-b613-4d4d6205c616",
   "metadata": {},
   "source": [
    "### 4.2.5 merged_random_1M_matrix"
   ]
  },
  {
   "cell_type": "code",
   "execution_count": null,
   "id": "2f347077-9469-47ac-b41f-781433b652b7",
   "metadata": {},
   "outputs": [],
   "source": [
    "joblib.dump(best_svm_model, 'best_svm_model1M.joblib')\n",
    "\n",
    "with open('best_params1M.txt', 'w') as f:\n",
    "    f.write(str(grid_search.best_params_))\n",
    "#######################################################\n",
    "loaded_model = joblib.load('best_svm_model1M.joblib')\n",
    "\n",
    "with open('best_params1M.txt', 'r') as f:\n",
    "    loaded_params = eval(f.read())\n",
    "\n",
    "y_pred = loaded_model.predict(X_test)"
   ]
  },
  {
   "cell_type": "markdown",
   "id": "6b8e1e02-ea80-4acf-9ea6-9e75727fdea2",
   "metadata": {},
   "source": [
    "### 4.2.6 merged_random_zerofilter_0.005_matrix"
   ]
  },
  {
   "cell_type": "code",
   "execution_count": null,
   "id": "b0d72766-9b4f-495b-9129-273d2e601f98",
   "metadata": {},
   "outputs": [],
   "source": [
    "joblib.dump(best_svm_model, 'best_svm_model_zerofilter_0.0005.joblib')\n",
    "\n",
    "with open('best_params_zerofilter_0.0005.txt', 'w') as f:\n",
    "    f.write(str(grid_search.best_params_))\n",
    "#######################################################\n",
    "loaded_model = joblib.load('best_svm_model_zerofilter_0.0005.joblib')\n",
    "\n",
    "with open('best_params_zerofilter_0.0005.txt', 'r') as f:\n",
    "    loaded_params = eval(f.read())\n",
    "\n",
    "y_pred = loaded_model.predict(X_test)"
   ]
  },
  {
   "cell_type": "markdown",
   "id": "7c3ac0fe-81b7-457a-9032-2cb2a54f7955",
   "metadata": {},
   "source": [
    "### y_test, y_pred"
   ]
  },
  {
   "cell_type": "code",
   "execution_count": null,
   "id": "9ca61fe7",
   "metadata": {},
   "outputs": [],
   "source": [
    "# print(y_test)\n",
    "# print(y_pred)"
   ]
  },
  {
   "cell_type": "markdown",
   "id": "a4cb80cb",
   "metadata": {},
   "source": [
    "# 5 Quality_evaluation metrics"
   ]
  },
  {
   "cell_type": "markdown",
   "id": "ff2ffac7-d614-49f9-b352-b179fa57e79d",
   "metadata": {},
   "source": [
    "## 5.1 Accuracy"
   ]
  },
  {
   "cell_type": "code",
   "execution_count": 40,
   "id": "32daec8f-962f-44dd-893c-cbec9e4cba1f",
   "metadata": {},
   "outputs": [
    {
     "name": "stdout",
     "output_type": "stream",
     "text": [
      "Accuracy: 0.7800312012480499\n"
     ]
    }
   ],
   "source": [
    "accuracy = accuracy_score(y_test, y_pred)\n",
    "print(f'Accuracy: {accuracy}' )"
   ]
  },
  {
   "cell_type": "markdown",
   "id": "da6936f4-0f3f-4142-8026-7d2318de8207",
   "metadata": {},
   "source": [
    "## 5.2 F1-score"
   ]
  },
  {
   "cell_type": "code",
   "execution_count": null,
   "id": "f037dd88-04d5-4136-af3b-4c41a46d2f7a",
   "metadata": {},
   "outputs": [],
   "source": [
    "f1_mi = f1_score(y_test, y_pred, average='micro')\n",
    "print(f'F1-score_micro: {f1_mi}')\n",
    "f1_ma = f1_score(y_test, y_pred, average='macro')\n",
    "print(f'F1-score_macro: {f1_ma}')\n",
    "f1_w = f1_score(y_test, y_pred, average='weighted')\n",
    "print(f'F1-score_weighted: {f1_w}')"
   ]
  },
  {
   "cell_type": "markdown",
   "id": "a57fd9d0-2f5f-4798-89c3-df148d3ce7f8",
   "metadata": {},
   "source": [
    "## 5.3 Confusion matrix"
   ]
  },
  {
   "cell_type": "code",
   "execution_count": null,
   "id": "7e038f71-fa00-4546-b6f1-d90c404af2b6",
   "metadata": {},
   "outputs": [],
   "source": [
    "conf_matrix = confusion_matrix(y_test, y_pred)\n",
    "print('Confusion Matrix:')\n",
    "print(conf_matrix)\n",
    "\n",
    "plt.figure(figsize=(8, 6))\n",
    "sns.heatmap(conf_matrix, annot=True, fmt='d', cmap='Blues', cbar=False, \n",
    "            xticklabels=['Class 0', 'Class 1'], yticklabels=['Class 0', 'Class 1'])\n",
    "plt.xlabel('Predicted')\n",
    "plt.ylabel('Actual')\n",
    "plt.title('Confusion Matrix')\n",
    "plt.show()"
   ]
  },
  {
   "cell_type": "code",
   "execution_count": null,
   "id": "43f148e3-0384-462a-89b9-0de5802f8459",
   "metadata": {},
   "outputs": [],
   "source": []
  },
  {
   "cell_type": "code",
   "execution_count": null,
   "id": "287ab638-6778-4e17-b8ac-3aaadd1fbe71",
   "metadata": {},
   "outputs": [],
   "source": []
  }
 ],
 "metadata": {
  "kernelspec": {
   "display_name": "Python 3 (ipykernel)",
   "language": "python",
   "name": "python3"
  },
  "language_info": {
   "codemirror_mode": {
    "name": "ipython",
    "version": 3
   },
   "file_extension": ".py",
   "mimetype": "text/x-python",
   "name": "python",
   "nbconvert_exporter": "python",
   "pygments_lexer": "ipython3",
   "version": "3.9.0"
  }
 },
 "nbformat": 4,
 "nbformat_minor": 5
}
