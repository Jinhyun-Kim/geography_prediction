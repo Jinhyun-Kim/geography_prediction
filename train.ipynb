{
 "cells": [
  {
   "cell_type": "markdown",
   "id": "203f8d8c-b0f1-4d6f-b08d-85084381d1b5",
   "metadata": {},
   "source": [
    "# 0. System Check"
   ]
  },
  {
   "cell_type": "code",
   "execution_count": 1,
   "id": "cb932510",
   "metadata": {
    "scrolled": true
   },
   "outputs": [
    {
     "name": "stdout",
     "output_type": "stream",
     "text": [
      "Wed Mar  6 22:30:54 2024       \n",
      "+-----------------------------------------------------------------------------+\n",
      "| NVIDIA-SMI 510.108.03   Driver Version: 510.108.03   CUDA Version: 11.6     |\n",
      "|-------------------------------+----------------------+----------------------+\n",
      "| GPU  Name        Persistence-M| Bus-Id        Disp.A | Volatile Uncorr. ECC |\n",
      "| Fan  Temp  Perf  Pwr:Usage/Cap|         Memory-Usage | GPU-Util  Compute M. |\n",
      "|                               |                      |               MIG M. |\n",
      "|===============================+======================+======================|\n",
      "|   0  Tesla V100-PCIE...  Off  | 00000000:3B:00.0 Off |                    0 |\n",
      "| N/A   32C    P0    22W / 250W |      0MiB / 32768MiB |      0%      Default |\n",
      "|                               |                      |                  N/A |\n",
      "+-------------------------------+----------------------+----------------------+\n",
      "|   1  Tesla V100-PCIE...  Off  | 00000000:D8:00.0 Off |                    0 |\n",
      "| N/A   39C    P0    42W / 250W |      0MiB / 32768MiB |      0%      Default |\n",
      "|                               |                      |                  N/A |\n",
      "+-------------------------------+----------------------+----------------------+\n",
      "                                                                               \n",
      "+-----------------------------------------------------------------------------+\n",
      "| Processes:                                                                  |\n",
      "|  GPU   GI   CI        PID   Type   Process name                  GPU Memory |\n",
      "|        ID   ID                                                   Usage      |\n",
      "|=============================================================================|\n",
      "|  No running processes found                                                 |\n",
      "+-----------------------------------------------------------------------------+\n"
     ]
    }
   ],
   "source": [
    "!nvidia-smi"
   ]
  },
  {
   "cell_type": "markdown",
   "id": "e26a0d19",
   "metadata": {},
   "source": [
    "# 1. Module"
   ]
  },
  {
   "cell_type": "code",
   "execution_count": 1,
   "id": "b86801ee",
   "metadata": {},
   "outputs": [],
   "source": [
    "import pandas as pd\n",
    "import numpy as np\n",
    "from sklearn.model_selection import train_test_split, GridSearchCV\n",
    "from sklearn.preprocessing import StandardScaler\n",
    "from sklearn.metrics import accuracy_score\n",
    "from sklearn.preprocessing import LabelEncoder\n",
    "from sklearn.svm import SVC\n",
    "from sklearn.linear_model import Ridge\n",
    "from sklearn.tree import DecisionTreeClassifier\n",
    "from sklearn.ensemble import RandomForestClassifier, GradientBoostingClassifier\n",
    "from xgboost import XGBClassifier\n",
    "from sklearn.metrics import f1_score, confusion_matrix\n",
    "import seaborn as sns\n",
    "import matplotlib.pyplot as plt\n",
    "import joblib \n",
    "\n",
    "import os, logging\n",
    "from tqdm import tqdm\n",
    "import time\n",
    "from helpers import get_ip_address, has_write_permission, measure_performance, save_preprocessed_data, read_preprocessed_data\n",
    "\n",
    "import warnings\n",
    "# 경고 메시지 무시\n",
    "warnings.filterwarnings(\"ignore\")"
   ]
  },
  {
   "cell_type": "markdown",
   "id": "4a746870",
   "metadata": {},
   "source": [
    "# 2. Data Load_Y"
   ]
  },
  {
   "cell_type": "code",
   "execution_count": 2,
   "id": "dde3c6a0",
   "metadata": {},
   "outputs": [],
   "source": [
    "data_locations = {\n",
    "    '223.195.111.48': '/project/datacamp/team11/data',\n",
    "    '147.47.44.229': '/home/jinhyun/data/1kGP',\n",
    "}\n",
    "\n",
    "chr_list = [str(x) for x in range(1,23)]\n",
    "gt_dict = {\"0|0\" :0, \"0|1\" : 1, \"1|0\" : 2, \"1|1\" : 3 } # genotype dict for converting string-> inteter "
   ]
  },
  {
   "cell_type": "code",
   "execution_count": 3,
   "id": "b343892b",
   "metadata": {},
   "outputs": [],
   "source": [
    "raw_data_path = data_locations.get(get_ip_address(), '/not_found')\n",
    "sample_annotation_file = os.path.join(raw_data_path, \"igsr-1000 genomes 30x on grch38.tsv\")\n",
    "preprocess_path = os.path.join(raw_data_path, \"preprocessed\")\n",
    "\n",
    "assert os.path.exists(preprocess_path), f\"Data path not exists: {raw_data_path} OR IP setting is incorrect: {get_ip_address()}\"\n",
    "assert os.path.isfile(sample_annotation_file), f\"File not exists : {sample_annotation_file}\"\n",
    "assert has_write_permission(preprocess_path), f\"You do not have write permission for {preprocess_path}\""
   ]
  },
  {
   "cell_type": "code",
   "execution_count": 4,
   "id": "46daeca1",
   "metadata": {},
   "outputs": [
    {
     "name": "stdout",
     "output_type": "stream",
     "text": [
      "Read sample annotation info with shape : (3202, 9)\n"
     ]
    }
   ],
   "source": [
    "sample_annotation_df = pd.read_csv(sample_annotation_file, sep=\"\\t\")\n",
    "print(f\"Read sample annotation info with shape : {sample_annotation_df.shape}\")"
   ]
  },
  {
   "cell_type": "markdown",
   "id": "fc103b5f-080c-4d9b-b84c-80f5f1ab27d0",
   "metadata": {},
   "source": [
    "## Population code"
   ]
  },
  {
   "cell_type": "code",
   "execution_count": 5,
   "id": "129145a6-1923-4fef-88ad-90f066e2854e",
   "metadata": {},
   "outputs": [
    {
     "name": "stdout",
     "output_type": "stream",
     "text": [
      "Index([2192], dtype='int64')\n"
     ]
    },
    {
     "data": {
      "text/plain": [
       "0       FIN\n",
       "1       FIN\n",
       "2       FIN\n",
       "3       FIN\n",
       "4       FIN\n",
       "       ... \n",
       "3197    GIH\n",
       "3198    GIH\n",
       "3199    GIH\n",
       "3200    GIH\n",
       "3201    CEU\n",
       "Name: Population code, Length: 3201, dtype: object"
      ]
     },
     "execution_count": 5,
     "metadata": {},
     "output_type": "execute_result"
    }
   ],
   "source": [
    "remove_row = sample_annotation_df[sample_annotation_df['Population code'] == 'IBS,MSL']\n",
    "print(remove_row.index)\n",
    "\n",
    "New_sample_annotation_df_ = sample_annotation_df.drop(remove_row.index)\n",
    "\n",
    "\n",
    "# print(New_sample_annotation_df_)\n",
    "New_sample_annotation_df_.value_counts('Population code')\n",
    "\n",
    "continent = New_sample_annotation_df_['Population code']\n",
    "continent"
   ]
  },
  {
   "cell_type": "markdown",
   "id": "2aef402e-79be-4c4f-8fc5-d7ba97641742",
   "metadata": {},
   "source": [
    "# 3. Data_Load_X"
   ]
  },
  {
   "cell_type": "code",
   "execution_count": 6,
   "id": "ef0ab7ad-89f9-457a-9201-d3e8b7a7f4a6",
   "metadata": {},
   "outputs": [],
   "source": [
    "npy_path = os.path.join(preprocess_path, 'merged_support3_variance_0.1_matrix.npy')\n",
    "data = np.load(npy_path)\n",
    "\n",
    "X = data\n",
    "y = continent"
   ]
  },
  {
   "cell_type": "markdown",
   "id": "209c28f8-0266-431b-a2bf-b70e345bf290",
   "metadata": {},
   "source": [
    "## Data of Population_name"
   ]
  },
  {
   "cell_type": "code",
   "execution_count": 7,
   "id": "e5ef4254-6fe2-4dd7-ab58-e07ecbbb7ca8",
   "metadata": {},
   "outputs": [
    {
     "name": "stdout",
     "output_type": "stream",
     "text": [
      "[[0 1 1 ... 0 0 1]\n",
      " [0 0 0 ... 0 0 0]\n",
      " [0 2 2 ... 0 0 1]\n",
      " ...\n",
      " [0 0 0 ... 0 0 0]\n",
      " [0 0 0 ... 0 0 0]\n",
      " [0 1 1 ... 0 0 0]]\n",
      "(3201, 5105448)\n"
     ]
    }
   ],
   "source": [
    "X = np.delete(X, 2192, axis=0)\n",
    "print(X)\n",
    "print(X.shape)"
   ]
  },
  {
   "cell_type": "markdown",
   "id": "6dc9f625-8774-4ef0-a0cf-1186f14ad659",
   "metadata": {},
   "source": [
    "## Data Check"
   ]
  },
  {
   "cell_type": "code",
   "execution_count": 8,
   "id": "11a3cd9e",
   "metadata": {
    "scrolled": true
   },
   "outputs": [
    {
     "name": "stdout",
     "output_type": "stream",
     "text": [
      "[[0 1 1 ... 0 0 1]\n",
      " [0 0 0 ... 0 0 0]\n",
      " [0 2 2 ... 0 0 1]\n",
      " ...\n",
      " [0 0 0 ... 0 0 0]\n",
      " [0 0 0 ... 0 0 0]\n",
      " [0 1 1 ... 0 0 0]]\n",
      "(3201, 5105448)\n",
      "0       FIN\n",
      "1       FIN\n",
      "2       FIN\n",
      "3       FIN\n",
      "4       FIN\n",
      "       ... \n",
      "3197    GIH\n",
      "3198    GIH\n",
      "3199    GIH\n",
      "3200    GIH\n",
      "3201    CEU\n",
      "Name: Population code, Length: 3201, dtype: object\n",
      "(3201,)\n"
     ]
    }
   ],
   "source": [
    "print(X)\n",
    "print(X.shape)\n",
    "print(y)\n",
    "print(y.shape)"
   ]
  },
  {
   "cell_type": "markdown",
   "id": "5d154616-900f-45da-ae71-30b28fa53e54",
   "metadata": {},
   "source": [
    "## Data_Split"
   ]
  },
  {
   "cell_type": "code",
   "execution_count": 9,
   "id": "ecdd8a8f",
   "metadata": {},
   "outputs": [],
   "source": [
    "# 데이터를 훈련 세트와 테스트 세트로 분할\n",
    "random_seed = 42\n",
    "X_train, X_test, y_train, y_test = train_test_split(X, y, test_size=0.2, random_state=random_seed)\n"
   ]
  },
  {
   "cell_type": "code",
   "execution_count": 10,
   "id": "5415a2d5-0601-423a-9715-eb8e3f6ab2c4",
   "metadata": {},
   "outputs": [
    {
     "name": "stdout",
     "output_type": "stream",
     "text": [
      "(2560, 5105448)\n",
      "(641, 5105448)\n",
      "561     MSL\n",
      "282     IBS\n",
      "1465    PUR\n",
      "1576    IBS\n",
      "807     ITU\n",
      "       ... \n",
      "1095    YRI\n",
      "1130    MXL\n",
      "1294    GIH\n",
      "860     STU\n",
      "3175    ASW\n",
      "Name: Population code, Length: 2560, dtype: object\n",
      "1374    FIN\n",
      "1195    MXL\n",
      "2938    STU\n",
      "1506    PUR\n",
      "214     CLM\n",
      "       ... \n",
      "43      CHS\n",
      "87      FIN\n",
      "1812    IBS\n",
      "2939    TSI\n",
      "2479    YRI\n",
      "Name: Population code, Length: 641, dtype: object\n"
     ]
    }
   ],
   "source": [
    "print(X_train.shape)\n",
    "print(X_test.shape)\n",
    "print(y_train)\n",
    "print(y_test)"
   ]
  },
  {
   "cell_type": "markdown",
   "id": "23f70faf-065a-44c2-9956-e7336d85a165",
   "metadata": {},
   "source": [
    "# 4. Modeling"
   ]
  },
  {
   "cell_type": "markdown",
   "id": "35f97007",
   "metadata": {},
   "source": [
    "## 4.1 SVM"
   ]
  },
  {
   "cell_type": "code",
   "execution_count": 11,
   "id": "b5e57287",
   "metadata": {},
   "outputs": [],
   "source": [
    "# from sklearn.model_selection import train_test_split\n",
    "# from sklearn.svm import SVC\n",
    "# from sklearn.model_selection import GridSearchCV\n",
    "# from sklearn.metrics import accuracy_score\n",
    "# import time\n",
    "\n",
    "# svm_model = SVC()\n",
    "# param_grid = {'C': [0.1, 1, 10], 'gamma': [0.01, 0.1, 1], 'kernel': ['linear', 'rbf']}\n",
    "# grid_search = GridSearchCV(svm_model, param_grid, cv=2, n_jobs=-1, verbose=2)\n",
    "\n",
    "# grid_search.fit(X_train, y_train)\n",
    "# print(\"Best Parameters: \", grid_search.best_params_)\n",
    "# best_svm_model = grid_search.best_estimator_\n",
    "# best_svm_model_params = grid_search.best_params_\n",
    "# y_pred = best_svm_model.predict(X_test)"
   ]
  },
  {
   "cell_type": "markdown",
   "id": "69e3f4c2",
   "metadata": {},
   "source": [
    "### 4.1.1 1M SVM(Previous parameters)"
   ]
  },
  {
   "cell_type": "code",
   "execution_count": 12,
   "id": "9732522e-9aa7-431f-a3a8-ab0589ddf96e",
   "metadata": {},
   "outputs": [],
   "source": [
    "@measure_performance\n",
    "def do_svm_train(X_train, y_train, X_test):\n",
    "    previous_best_params = {'C': 0.1, 'gamma': 0.01, 'kernel': 'linear'} \n",
    "    svm_model = SVC(**previous_best_params)\n",
    "    svm_model.fit(X_train, y_train)\n",
    "\n",
    "    y_pred = svm_model.predict(X_test)\n",
    "    return y_pred\n"
   ]
  },
  {
   "cell_type": "code",
   "execution_count": 13,
   "id": "ad5d7f54",
   "metadata": {},
   "outputs": [
    {
     "name": "stdout",
     "output_type": "stream",
     "text": [
      "Function: do_svm_train\n",
      "CPU Time: 0.7246 minutes\n",
      "Physical Time: 0.7256 minutes\n",
      "Memory Usage: 0.5178 GiB\n"
     ]
    }
   ],
   "source": [
    "y_pred = do_svm_train(X_train, y_train, X_test)"
   ]
  },
  {
   "cell_type": "code",
   "execution_count": 11,
   "id": "32ff117f",
   "metadata": {},
   "outputs": [],
   "source": [
    "from sklearn.linear_model import SGDClassifier\n",
    "from sklearn.metrics import accuracy_score\n",
    "from sklearn.utils import shuffle\n",
    "from IPython.display import clear_output\n",
    "\n",
    "@measure_performance\n",
    "def do_sgd_train(X_train, y_train, X_test, batch_size=1000, num_epoch = 5):\n",
    "    random_seed = 12345\n",
    "    np.random.seed(random_seed)\n",
    "\n",
    "    sgd_model = SGDClassifier(loss='hinge', penalty='l2', alpha=0.0001, learning_rate='optimal', max_iter=1, tol=None, warm_start=True)\n",
    "    #sgd_model = SGDClassifier(loss='hinge', penalty='l2', alpha=0.0001, learning_rate='optimal', max_iter=1000, tol=1e-3)\n",
    "\n",
    "    classes = np.unique(y_train)\n",
    "\n",
    "    n_batches = int(np.ceil(X_train.shape[0] / batch_size))\n",
    "\n",
    "    accuracies = []\n",
    "    plt.ion() # Turn on the interactive mode\n",
    "    for epoch in range(num_epoch): #tqdm(range(num_epoch))\n",
    "        X_train_shuffled, y_train_shuffled = shuffle(X_train, y_train, random_state = epoch + random_seed)\n",
    "\n",
    "        for batch in range(n_batches):\n",
    "            start_idx = batch * batch_size\n",
    "            end_idx = min((batch + 1) * batch_size, X_train.shape[0])\n",
    "\n",
    "            X_batch = X_train_shuffled[start_idx:end_idx]\n",
    "            y_batch = y_train_shuffled[start_idx:end_idx]\n",
    "\n",
    "            sgd_model.partial_fit(X_batch, y_batch, classes=classes)\n",
    "\n",
    "        # evaluate and draw figure\n",
    "        accuracy = accuracy_score(y_test, sgd_model.predict(X_test))\n",
    "        accuracies.append(accuracy)\n",
    "        \n",
    "        clear_output(wait=True)\n",
    "        plt.figure(figsize=(6, 4))\n",
    "        plt.plot(range(1, epoch + 2), accuracies, marker='o', linestyle='-', color='blue')\n",
    "        plt.xlabel('Epoch')\n",
    "        plt.ylabel('Accuracy')\n",
    "        plt.grid(True)\n",
    "        plt.xticks(range(1, epoch + 1))\n",
    "        plt.show()\n",
    "\n",
    "    plt.ioff() # Turn off the interactive mode\n",
    "    y_pred = sgd_model.predict(X_test)\n",
    "    return y_pred, accuracies\n",
    "\n",
    "@measure_performance\n",
    "def do_sgd_train_with_grid_search(X_train, y_train, X_test):\n",
    "\n",
    "    param_grid = {\n",
    "        'alpha': [0.00001, 0.0001, 0.001, 0.01, 0.1],\n",
    "        'loss': ['hinge', 'log'],  # 'hinge' gives a linear SVM, 'log' gives logistic regression\n",
    "        # Add more parameters here as needed\n",
    "    }\n",
    "\n",
    "    sgd_model = SGDClassifier(learning_rate='optimal', max_iter=1000, tol=1e-3)\n",
    "\n",
    "    grid_search = GridSearchCV(estimator=sgd_model, param_grid=param_grid, cv=5, scoring='accuracy', n_jobs=-1)\n",
    "    grid_search.fit(X_train, y_train)\n",
    "\n",
    "    best_params = grid_search.best_params_\n",
    "    best_model = grid_search.best_estimator_\n",
    "\n",
    "    print(\"Best parameters found:\", best_params)\n",
    "\n",
    "    y_pred = best_model.predict(X_test)\n",
    "\n",
    "    accuracy = accuracy_score(y_test, y_pred)\n",
    "    print(\"Accuracy of the best model:\", accuracy)\n",
    "\n",
    "    return y_pred, best_params\n",
    "    "
   ]
  },
  {
   "cell_type": "code",
   "execution_count": 20,
   "id": "4c6f3662",
   "metadata": {},
   "outputs": [
    {
     "name": "stdout",
     "output_type": "stream",
     "text": [
      "Best parameters found: {'alpha': 0.0001, 'loss': 'hinge'}\n",
      "Accuracy of the best model: 0.7207488299531981\n",
      "Function: do_sgd_train_with_grid_search\n",
      "CPU Time: 0.2312 minutes\n",
      "Physical Time: 0.7921 minutes\n",
      "Memory Usage: 0.4678 GiB\n"
     ]
    }
   ],
   "source": [
    "#y_pred, best_params = do_sgd_train_with_grid_search(X_train, y_train, X_test)"
   ]
  },
  {
   "cell_type": "code",
   "execution_count": 12,
   "id": "78f7e929",
   "metadata": {},
   "outputs": [
    {
     "data": {
      "image/png": "[encoded data removed]",
      "text/plain": [
       "<Figure size 600x400 with 1 Axes>"
      ]
     },
     "metadata": {},
     "output_type": "display_data"
    }
   ],
   "source": [
    "y_pred, accuracies = do_sgd_train(X_train, y_train, X_test,\n",
    "                      batch_size = 100, num_epoch = 1000)\n"
   ]
  },
  {
   "cell_type": "markdown",
   "id": "f9331f19-bd30-4f15-9c66-41f073b6769e",
   "metadata": {
    "jp-MarkdownHeadingCollapsed": true
   },
   "source": [
    "## 4.2 Parameter load"
   ]
  },
  {
   "cell_type": "markdown",
   "id": "6b421ec2-0366-4100-b1e2-4965bc2d9c95",
   "metadata": {},
   "source": [
    "### 4.2.1 merged_random_100_matrix"
   ]
  },
  {
   "cell_type": "code",
   "execution_count": null,
   "id": "abdeb3a9",
   "metadata": {},
   "outputs": [],
   "source": [
    "joblib.dump(best_svm_model, 'best_svm_model100.joblib')\n",
    "\n",
    "with open('best_params100.txt', 'w') as f:\n",
    "    f.write(str(grid_search.best_params_))\n",
    "#######################################################\n",
    "loaded_model = joblib.load('best_svm_model100.joblib')\n",
    "\n",
    "with open('best_params100.txt', 'r') as f:\n",
    "    loaded_params = eval(f.read())\n",
    "\n",
    "y_pred = loaded_model.predict(X_test)"
   ]
  },
  {
   "cell_type": "markdown",
   "id": "c5933666-d77b-4456-a838-d9908fff44a4",
   "metadata": {},
   "source": [
    "### 4.2.2 merged_random_1k_matrix"
   ]
  },
  {
   "cell_type": "code",
   "execution_count": null,
   "id": "0d943cb3-b9c3-4369-9dbe-ce3e237c094a",
   "metadata": {},
   "outputs": [],
   "source": [
    "joblib.dump(best_svm_model, 'best_svm_model1k.joblib')\n",
    "\n",
    "with open('best_params1k.txt', 'w') as f:\n",
    "    f.write(str(grid_search.best_params_))\n",
    "#######################################################\n",
    "loaded_model = joblib.load('best_svm_model1k.joblib')\n",
    "\n",
    "with open('best_params1k.txt', 'r') as f:\n",
    "    loaded_params = eval(f.read())\n",
    "\n",
    "y_pred = loaded_model.predict(X_test)"
   ]
  },
  {
   "cell_type": "markdown",
   "id": "27cb8342-145e-49d7-baa7-45976e31f7d1",
   "metadata": {},
   "source": [
    "### 4.2.3 merged_random_10k_matrix"
   ]
  },
  {
   "cell_type": "code",
   "execution_count": null,
   "id": "2b194e21-21f5-4611-9243-cc84401c0f3c",
   "metadata": {},
   "outputs": [],
   "source": [
    "joblib.dump(best_svm_model, 'best_svm_model10k.joblib')\n",
    "\n",
    "with open('best_params10k.txt', 'w') as f:\n",
    "    f.write(str(grid_search.best_params_))\n",
    "#######################################################\n",
    "loaded_model = joblib.load('best_svm_model10k.joblib')\n",
    "\n",
    "with open('best_params10k.txt', 'r') as f:\n",
    "    loaded_params = eval(f.read())\n",
    "\n",
    "y_pred = loaded_model.predict(X_test)"
   ]
  },
  {
   "cell_type": "markdown",
   "id": "e8122baa-2f9f-424c-82b0-941597e1e9d6",
   "metadata": {},
   "source": [
    "### 4.2.4 merged_random_100k_matrix"
   ]
  },
  {
   "cell_type": "code",
   "execution_count": null,
   "id": "56dfc7d3-cfaf-449a-b818-4fb105033f3e",
   "metadata": {},
   "outputs": [],
   "source": [
    "joblib.dump(best_svm_model, 'best_svm_model100k.joblib')\n",
    "\n",
    "with open('best_params100k.txt', 'w') as f:\n",
    "    f.write(str(grid_search.best_params_))\n",
    "#######################################################\n",
    "loaded_model = joblib.load('best_svm_model100k.joblib')\n",
    "\n",
    "with open('best_params100k.txt', 'r') as f:\n",
    "    loaded_params = eval(f.read())\n",
    "\n",
    "y_pred = loaded_model.predict(X_test)"
   ]
  },
  {
   "cell_type": "markdown",
   "id": "a79ff85a-8525-492e-b613-4d4d6205c616",
   "metadata": {},
   "source": [
    "### 4.2.5 merged_random_1M_matrix"
   ]
  },
  {
   "cell_type": "code",
   "execution_count": null,
   "id": "2f347077-9469-47ac-b41f-781433b652b7",
   "metadata": {},
   "outputs": [],
   "source": [
    "joblib.dump(best_svm_model, 'best_svm_model1M.joblib')\n",
    "\n",
    "with open('best_params1M.txt', 'w') as f:\n",
    "    f.write(str(grid_search.best_params_))\n",
    "#######################################################\n",
    "loaded_model = joblib.load('best_svm_model1M.joblib')\n",
    "\n",
    "with open('best_params1M.txt', 'r') as f:\n",
    "    loaded_params = eval(f.read())\n",
    "\n",
    "y_pred = loaded_model.predict(X_test)"
   ]
  },
  {
   "cell_type": "markdown",
   "id": "6b8e1e02-ea80-4acf-9ea6-9e75727fdea2",
   "metadata": {},
   "source": [
    "### 4.2.6 merged_random_zerofilter_0.005_matrix"
   ]
  },
  {
   "cell_type": "code",
   "execution_count": null,
   "id": "b0d72766-9b4f-495b-9129-273d2e601f98",
   "metadata": {},
   "outputs": [],
   "source": [
    "joblib.dump(best_svm_model, 'best_svm_model_zerofilter_0.0005.joblib')\n",
    "\n",
    "with open('best_params_zerofilter_0.0005.txt', 'w') as f:\n",
    "    f.write(str(grid_search.best_params_))\n",
    "#######################################################\n",
    "loaded_model = joblib.load('best_svm_model_zerofilter_0.0005.joblib')\n",
    "\n",
    "with open('best_params_zerofilter_0.0005.txt', 'r') as f:\n",
    "    loaded_params = eval(f.read())\n",
    "\n",
    "y_pred = loaded_model.predict(X_test)"
   ]
  },
  {
   "cell_type": "markdown",
   "id": "7c3ac0fe-81b7-457a-9032-2cb2a54f7955",
   "metadata": {},
   "source": [
    "### y_test, y_pred"
   ]
  },
  {
   "cell_type": "code",
   "execution_count": null,
   "id": "9ca61fe7",
   "metadata": {},
   "outputs": [],
   "source": [
    "# print(y_test)\n",
    "# print(y_pred)"
   ]
  },
  {
   "cell_type": "markdown",
   "id": "a4cb80cb",
   "metadata": {},
   "source": [
    "# 5 Quality_evaluation metrics"
   ]
  },
  {
   "cell_type": "markdown",
   "id": "ff2ffac7-d614-49f9-b352-b179fa57e79d",
   "metadata": {},
   "source": [
    "## 5.1 Accuracy"
   ]
  },
  {
   "cell_type": "code",
   "execution_count": 36,
   "id": "32daec8f-962f-44dd-893c-cbec9e4cba1f",
   "metadata": {},
   "outputs": [
    {
     "name": "stdout",
     "output_type": "stream",
     "text": [
      "Accuracy: 0.719188767550702\n"
     ]
    }
   ],
   "source": [
    "accuracy = accuracy_score(y_test, y_pred)\n",
    "print(f'Accuracy: {accuracy}' )"
   ]
  },
  {
   "cell_type": "markdown",
   "id": "da6936f4-0f3f-4142-8026-7d2318de8207",
   "metadata": {},
   "source": [
    "## 5.2 F1-score"
   ]
  },
  {
   "cell_type": "code",
   "execution_count": 37,
   "id": "f037dd88-04d5-4136-af3b-4c41a46d2f7a",
   "metadata": {},
   "outputs": [
    {
     "name": "stdout",
     "output_type": "stream",
     "text": [
      "micro: 0.7192; macro: 0.6956; weighted: 0.7263\n"
     ]
    }
   ],
   "source": [
    "f1_mi = f1_score(y_test, y_pred, average='micro')\n",
    "f1_ma = f1_score(y_test, y_pred, average='macro')\n",
    "f1_w = f1_score(y_test, y_pred, average='weighted')\n",
    "\n",
    "print(f\"micro: {f1_mi:.4f}; macro: {f1_ma:.4f}; weighted: {f1_w:.4f}\")"
   ]
  },
  {
   "cell_type": "markdown",
   "id": "a57fd9d0-2f5f-4798-89c3-df148d3ce7f8",
   "metadata": {},
   "source": [
    "## 5.3 Confusion matrix"
   ]
  },
  {
   "cell_type": "code",
   "execution_count": 38,
   "id": "7e038f71-fa00-4546-b6f1-d90c404af2b6",
   "metadata": {},
   "outputs": [
    {
     "name": "stdout",
     "output_type": "stream",
     "text": [
      "Confusion Matrix:\n",
      "[[17  4  0  0  0  0  0  0  1  0  0  0  0  0  0  0  0  0  0  0  0  0  0  0\n",
      "   0  0]\n",
      " [ 5 11  0  0  0  0  0  0  0  0  0  0  0  0  0  0  0  0  1  1  1  0  0  0\n",
      "   0  0]\n",
      " [ 0  0 15  0  0  0  0  0  0  0  0  0  0  0  2  1  0  0  0  0  0  2  0  0\n",
      "   0  0]\n",
      " [ 0  0  0 16  0  0  0  0  0  0  0  0  0  0  0  1  2  0  0  0  0  0  0  0\n",
      "   0  0]\n",
      " [ 0  0  0  0 38  0  0  2  0  0  1  0  0  0  0  0  0  0  0  0  0  0  0  0\n",
      "   2  0]\n",
      " [ 0  0  0  0  0  4  0  0  0  0  0  0  0  0  0  6  0  0  0  0  0  0  0  0\n",
      "   0  0]\n",
      " [ 0  0  0  1  0  5 24  0  0  0  0  0  0  0  0 17  0  0  0  0  0  0  0  0\n",
      "   0  0]\n",
      " [ 0  0  0  0  0  0  0 23  0  0  0  0  0  0  0  0  0  0  0  0  1  0  1  0\n",
      "   0  0]\n",
      " [ 5  1  0  0  0  0  0  0 18  0  0  0  0  0  0  0  0  0  0  0  0  0  0  0\n",
      "   0  0]\n",
      " [ 0  0  0  0  3  0  0  0  0 14  0  0  0  0  0  0  0  0  0  0  0  0  0  0\n",
      "   0  0]\n",
      " [ 3  0  0  0  8  0  0  3  0  1  1  0  0  0  0  0  0  0  0  0  0  0  1  0\n",
      "   1  0]\n",
      " [ 1  0  1  0  0  0  0  0  0  0  0 10  0  0  6  0  0  0  0  0  0  4  0  0\n",
      "   0  0]\n",
      " [ 3  0  0  0  0  0  0  0  0  0  0  0 40  0  0  0  0  0  0  0  0  0  0  0\n",
      "   0  0]\n",
      " [ 0  0  0  0  1  0  0  2  0  0  0  0  0 23  0  0  0  0  0  0  0  0  2  0\n",
      "   3  0]\n",
      " [ 1  0  0  0  0  0  0  0  0  0  0  0  0  0 22  0  0  0  0  0  0  3  0  0\n",
      "   0  0]\n",
      " [ 0  0  0  0  0  0  0  0  0  0  0  0  0  0  0  8  0  0  0  0  0  0  0  0\n",
      "   0  0]\n",
      " [ 1  0  0  4  0  0  0  0  0  0  0  0  0  0  0 10 12  0  0  0  0  0  0  0\n",
      "   0  0]\n",
      " [ 1  3  0  0  0  0  0  0  1  0  0  0  0  0  0  0  0 11  0  0  0  0  0  0\n",
      "   0  0]\n",
      " [ 3  1  0  0  0  0  0  0  1  0  0  0  2  0  0  0  0  0 13  0  0  0  0  0\n",
      "   0  1]\n",
      " [ 0  0  0  0  0  0  0  0  0  0  0  0  0  0  0  0  0  0  0 14  1  0  1  0\n",
      "   0  0]\n",
      " [ 0  0  0  0  0  0  0  0  0  0  0  0  0  0  0  0  0  0  0  0 26  0  0  0\n",
      "   0  0]\n",
      " [ 1  0  0  0  0  0  0  0  0  0  0  0  0  0  3  1  0  0  0  0  0 16  0  0\n",
      "   0  0]\n",
      " [ 0  0  0  0  0  0  0  1  0  0  0  0  1  0  0  0  0  0  0  0  0  0 32  0\n",
      "   1  0]\n",
      " [ 0  0  1  0  0  0  0  0  0  0  0  0  0  0 11  0  0  0  0  0  0  0  0 14\n",
      "   0  0]\n",
      " [ 0  0  0  0  0  0  0  1  0  0  0  0  0  1  0  0  0  0  0  0  0  0  1  0\n",
      "  15  0]\n",
      " [ 8  3  0  0  0  0  0  0  6  0  0  0  0  0  0  0  0  0  0  0  0  0  0  0\n",
      "   0 24]]\n"
     ]
    },
    {
     "data": {
      "image/png": "[encoded data removed]",
      "text/plain": [
       "<Figure size 800x600 with 1 Axes>"
      ]
     },
     "metadata": {},
     "output_type": "display_data"
    }
   ],
   "source": [
    "conf_matrix = confusion_matrix(y_test, y_pred)\n",
    "print('Confusion Matrix:')\n",
    "print(conf_matrix)\n",
    "\n",
    "plt.figure(figsize=(8, 6))\n",
    "sns.heatmap(conf_matrix, annot=True, fmt='d', cmap='Blues', cbar=False, \n",
    "            xticklabels=['Class 0', 'Class 1'], yticklabels=['Class 0', 'Class 1'])\n",
    "plt.xlabel('Predicted')\n",
    "plt.ylabel('Actual')\n",
    "plt.title('Confusion Matrix')\n",
    "plt.show()"
   ]
  },
  {
   "cell_type": "code",
   "execution_count": null,
   "id": "43f148e3-0384-462a-89b9-0de5802f8459",
   "metadata": {},
   "outputs": [],
   "source": []
  }
 ],
 "metadata": {
  "kernelspec": {
   "display_name": "Python 3 (ipykernel)",
   "language": "python",
   "name": "python3"
  },
  "language_info": {
   "codemirror_mode": {
    "name": "ipython",
    "version": 3
   },
   "file_extension": ".py",
   "mimetype": "text/x-python",
   "name": "python",
   "nbconvert_exporter": "python",
   "pygments_lexer": "ipython3",
   "version": "3.9.0"
  }
 },
 "nbformat": 4,
 "nbformat_minor": 5
}
