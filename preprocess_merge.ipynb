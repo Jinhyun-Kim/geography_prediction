{
 "cells": [
  {
   "cell_type": "code",
   "execution_count": 1,
   "metadata": {},
   "outputs": [],
   "source": [
    "import os, logging\n",
    "import pandas as pd\n",
    "import numpy as np\n",
    "from tqdm import tqdm\n",
    "\n",
    "from helpers import get_ip_address, has_write_permission, save_preprocessed_data, read_preprocessed_data"
   ]
  },
  {
   "cell_type": "markdown",
   "metadata": {},
   "source": [
    "### Set variables"
   ]
  },
  {
   "cell_type": "code",
   "execution_count": 2,
   "metadata": {},
   "outputs": [],
   "source": [
    "data_locations = {\n",
    "    '223.195.111.48': '/project/datacamp/team11/data',\n",
    "    '147.47.44.229': '/home/jinhyun/data/1kGP',\n",
    "}\n",
    "\n",
    "chr_list = [str(x) for x in range(1,23)]\n",
    "gt_dict = {\"0|0\" :0, \"0|1\" : 1, \"1|0\" : 2, \"1|1\" : 3 } # genotype dict for converting string-> inteter "
   ]
  },
  {
   "cell_type": "markdown",
   "metadata": {},
   "source": [
    "### Validation checks"
   ]
  },
  {
   "cell_type": "code",
   "execution_count": 3,
   "metadata": {},
   "outputs": [],
   "source": [
    "raw_data_path = data_locations.get(get_ip_address(), '/not_found')\n",
    "sample_annotation_file = os.path.join(raw_data_path, \"igsr-1000 genomes 30x on grch38.tsv\")\n",
    "preprocess_path = os.path.join(raw_data_path, \"preprocessed\")\n",
    "\n",
    "assert os.path.exists(preprocess_path), f\"Data path not exists: {raw_data_path} OR IP setting is incorrect: {get_ip_address()}\"\n",
    "assert os.path.isfile(sample_annotation_file), f\"File not exists : {sample_annotation_file}\"\n",
    "assert has_write_permission(preprocess_path), f\"You do not have write permission for {preprocess_path}\""
   ]
  },
  {
   "cell_type": "code",
   "execution_count": 4,
   "metadata": {},
   "outputs": [
    {
     "name": "stdout",
     "output_type": "stream",
     "text": [
      "Read sample annotation info with shape : (3202, 9)\n"
     ]
    }
   ],
   "source": [
    "sample_annotation_df = pd.read_csv(sample_annotation_file, sep=\"\\t\")\n",
    "print(f\"Read sample annotation info with shape : {sample_annotation_df.shape}\")"
   ]
  },
  {
   "cell_type": "markdown",
   "metadata": {},
   "source": [
    "### combine the genotype matrix"
   ]
  },
  {
   "cell_type": "code",
   "execution_count": 5,
   "metadata": {},
   "outputs": [],
   "source": [
    "merged_file_save_prefix = os.path.join(preprocess_path, \"merged\")"
   ]
  },
  {
   "cell_type": "code",
   "execution_count": 6,
   "metadata": {},
   "outputs": [
    {
     "name": "stdout",
     "output_type": "stream",
     "text": [
      "Reading data from files /home/jinhyun/data/1kGP/preprocessed/chr1_matrix.npy and /home/jinhyun/data/1kGP/preprocessed/chr1_variant.csv\n",
      "Read genotype array of shape (3202, 5013617) and variant info dataframe of shape (5013617, 4)\n",
      "Reading data from files /home/jinhyun/data/1kGP/preprocessed/chr2_matrix.npy and /home/jinhyun/data/1kGP/preprocessed/chr2_variant.csv\n",
      "Read genotype array of shape (3202, 5318178) and variant info dataframe of shape (5318178, 4)\n",
      "Reading data from files /home/jinhyun/data/1kGP/preprocessed/chr3_matrix.npy and /home/jinhyun/data/1kGP/preprocessed/chr3_variant.csv\n",
      "Read genotype array of shape (3202, 4361093) and variant info dataframe of shape (4361093, 4)\n",
      "Reading data from files /home/jinhyun/data/1kGP/preprocessed/chr4_matrix.npy and /home/jinhyun/data/1kGP/preprocessed/chr4_variant.csv\n",
      "Read genotype array of shape (3202, 4264103) and variant info dataframe of shape (4264103, 4)\n",
      "Reading data from files /home/jinhyun/data/1kGP/preprocessed/chr5_matrix.npy and /home/jinhyun/data/1kGP/preprocessed/chr5_variant.csv\n",
      "Read genotype array of shape (3202, 3966457) and variant info dataframe of shape (3966457, 4)\n",
      "Reading data from files /home/jinhyun/data/1kGP/preprocessed/chr6_matrix.npy and /home/jinhyun/data/1kGP/preprocessed/chr6_variant.csv\n",
      "Read genotype array of shape (3202, 3747375) and variant info dataframe of shape (3747375, 4)\n",
      "Reading data from files /home/jinhyun/data/1kGP/preprocessed/chr7_matrix.npy and /home/jinhyun/data/1kGP/preprocessed/chr7_variant.csv\n",
      "Read genotype array of shape (3202, 3595170) and variant info dataframe of shape (3595170, 4)\n",
      "Reading data from files /home/jinhyun/data/1kGP/preprocessed/chr8_matrix.npy and /home/jinhyun/data/1kGP/preprocessed/chr8_variant.csv\n",
      "Read genotype array of shape (3202, 3422307) and variant info dataframe of shape (3422307, 4)\n",
      "Reading data from files /home/jinhyun/data/1kGP/preprocessed/chr9_matrix.npy and /home/jinhyun/data/1kGP/preprocessed/chr9_variant.csv\n",
      "Read genotype array of shape (3202, 2777032) and variant info dataframe of shape (2777032, 4)\n",
      "Reading data from files /home/jinhyun/data/1kGP/preprocessed/chr10_matrix.npy and /home/jinhyun/data/1kGP/preprocessed/chr10_variant.csv\n",
      "Read genotype array of shape (3202, 3044073) and variant info dataframe of shape (3044073, 4)\n",
      "Reading data from files /home/jinhyun/data/1kGP/preprocessed/chr11_matrix.npy and /home/jinhyun/data/1kGP/preprocessed/chr11_variant.csv\n",
      "Read genotype array of shape (3202, 2999680) and variant info dataframe of shape (2999680, 4)\n",
      "Reading data from files /home/jinhyun/data/1kGP/preprocessed/chr12_matrix.npy and /home/jinhyun/data/1kGP/preprocessed/chr12_variant.csv\n",
      "Read genotype array of shape (3202, 2879549) and variant info dataframe of shape (2879549, 4)\n",
      "Reading data from files /home/jinhyun/data/1kGP/preprocessed/chr13_matrix.npy and /home/jinhyun/data/1kGP/preprocessed/chr13_variant.csv\n",
      "Read genotype array of shape (3202, 2186334) and variant info dataframe of shape (2186334, 4)\n",
      "Reading data from files /home/jinhyun/data/1kGP/preprocessed/chr14_matrix.npy and /home/jinhyun/data/1kGP/preprocessed/chr14_variant.csv\n",
      "Read genotype array of shape (3202, 1993365) and variant info dataframe of shape (1993365, 4)\n",
      "Reading data from files /home/jinhyun/data/1kGP/preprocessed/chr15_matrix.npy and /home/jinhyun/data/1kGP/preprocessed/chr15_variant.csv\n",
      "Read genotype array of shape (3202, 1834424) and variant info dataframe of shape (1834424, 4)\n",
      "Reading data from files /home/jinhyun/data/1kGP/preprocessed/chr16_matrix.npy and /home/jinhyun/data/1kGP/preprocessed/chr16_variant.csv\n",
      "Read genotype array of shape (3202, 2069967) and variant info dataframe of shape (2069967, 4)\n",
      "Reading data from files /home/jinhyun/data/1kGP/preprocessed/chr17_matrix.npy and /home/jinhyun/data/1kGP/preprocessed/chr17_variant.csv\n",
      "Read genotype array of shape (3202, 1767777) and variant info dataframe of shape (1767777, 4)\n",
      "Reading data from files /home/jinhyun/data/1kGP/preprocessed/chr18_matrix.npy and /home/jinhyun/data/1kGP/preprocessed/chr18_variant.csv\n",
      "Read genotype array of shape (3202, 1714369) and variant info dataframe of shape (1714369, 4)\n",
      "Reading data from files /home/jinhyun/data/1kGP/preprocessed/chr19_matrix.npy and /home/jinhyun/data/1kGP/preprocessed/chr19_variant.csv\n",
      "Read genotype array of shape (3202, 1411445) and variant info dataframe of shape (1411445, 4)\n",
      "Reading data from files /home/jinhyun/data/1kGP/preprocessed/chr20_matrix.npy and /home/jinhyun/data/1kGP/preprocessed/chr20_variant.csv\n",
      "Read genotype array of shape (3202, 1430673) and variant info dataframe of shape (1430673, 4)\n",
      "Reading data from files /home/jinhyun/data/1kGP/preprocessed/chr21_matrix.npy and /home/jinhyun/data/1kGP/preprocessed/chr21_variant.csv\n",
      "Read genotype array of shape (3202, 876432) and variant info dataframe of shape (876432, 4)\n",
      "Reading data from files /home/jinhyun/data/1kGP/preprocessed/chr22_matrix.npy and /home/jinhyun/data/1kGP/preprocessed/chr22_variant.csv\n",
      "Read genotype array of shape (3202, 925730) and variant info dataframe of shape (925730, 4)\n",
      "Combine result: genotype array with shape (3202, 61599150) and variant info with shape (61599150, 4)\n"
     ]
    }
   ],
   "source": [
    "genotype_array_list, variant_info_df_list = [], []\n",
    "for chr in chr_list:\n",
    "    gt_array, variant_info_df = read_preprocessed_data(os.path.join(preprocess_path, f\"chr{chr}\"))\n",
    "    \n",
    "    if gt_array is not None:\n",
    "        genotype_array_list.append(gt_array)\n",
    "        variant_info_df_list.append(variant_info_df)\n",
    "\n",
    "genotype_array_combined = np.concatenate(genotype_array_list, axis=1)\n",
    "variant_info_df_combined = pd.concat(variant_info_df_list, axis=0, ignore_index=True)\n",
    "print(f\"Combine result: genotype array with shape {genotype_array_combined.shape} and variant info with shape {variant_info_df_combined.shape}\")"
   ]
  },
  {
   "cell_type": "code",
   "execution_count": 7,
   "metadata": {},
   "outputs": [
    {
     "name": "stdout",
     "output_type": "stream",
     "text": [
      "genotype matrix shape (#samples, #features) : (3202, 61599150) -> saved to /home/jinhyun/data/1kGP/preprocessed/merged_matrix.npy\n",
      "variant info dataframe (#features, ): (61599150, 4) -> saved to /home/jinhyun/data/1kGP/preprocessed/merged_variant.csv\n"
     ]
    }
   ],
   "source": [
    "save_preprocessed_data(genotype_array_combined, variant_info_df_combined, merged_file_save_prefix)"
   ]
  },
  {
   "cell_type": "code",
   "execution_count": null,
   "metadata": {},
   "outputs": [],
   "source": []
  }
 ],
 "metadata": {
  "kernelspec": {
   "display_name": "jinhyun",
   "language": "python",
   "name": "python3"
  },
  "language_info": {
   "codemirror_mode": {
    "name": "ipython",
    "version": 3
   },
   "file_extension": ".py",
   "mimetype": "text/x-python",
   "name": "python",
   "nbconvert_exporter": "python",
   "pygments_lexer": "ipython3",
   "version": "3.9.0"
  }
 },
 "nbformat": 4,
 "nbformat_minor": 2
}
