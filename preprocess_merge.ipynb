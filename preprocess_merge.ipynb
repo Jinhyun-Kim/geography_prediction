{
 "cells": [
  {
   "cell_type": "code",
   "execution_count": null,
   "metadata": {},
   "outputs": [],
   "source": [
    "import os, logging\n",
    "import pandas as pd\n",
    "import numpy as np\n",
    "from tqdm import tqdm\n",
    "\n",
    "from helpers import get_ip_address, has_write_permission, save_preprocessed_data, read_preprocessed_data"
   ]
  },
  {
   "cell_type": "markdown",
   "metadata": {},
   "source": [
    "### Set variables"
   ]
  },
  {
   "cell_type": "code",
   "execution_count": null,
   "metadata": {},
   "outputs": [],
   "source": [
    "data_locations = {\n",
    "    '223.195.111.48': '/project/datacamp/team11/data',\n",
    "    '147.47.44.229': '/home/jinhyun/data/1kGP',\n",
    "}\n",
    "\n",
    "chr_list = [str(x) for x in range(1,23)]\n",
    "gt_dict = {\"0|0\" :0, \"0|1\" : 1, \"1|0\" : 2, \"1|1\" : 3 } # genotype dict for converting string-> inteter "
   ]
  },
  {
   "cell_type": "markdown",
   "metadata": {},
   "source": [
    "### Validation checks"
   ]
  },
  {
   "cell_type": "code",
   "execution_count": null,
   "metadata": {},
   "outputs": [],
   "source": [
    "raw_data_path = data_locations.get(get_ip_address(), '/not_found')\n",
    "sample_annotation_file = os.path.join(raw_data_path, \"igsr-1000 genomes 30x on grch38.tsv\")\n",
    "preprocess_path = os.path.join(raw_data_path, \"preprocessed\")\n",
    "\n",
    "assert os.path.exists(preprocess_path), f\"Data path not exists: {raw_data_path} OR IP setting is incorrect: {get_ip_address()}\"\n",
    "assert os.path.isfile(sample_annotation_file), f\"File not exists : {sample_annotation_file}\"\n",
    "assert has_write_permission(preprocess_path), f\"You do not have write permission for {preprocess_path}\""
   ]
  },
  {
   "cell_type": "code",
   "execution_count": null,
   "metadata": {},
   "outputs": [],
   "source": [
    "sample_annotation_df = pd.read_csv(sample_annotation_file, sep=\"\\t\")\n",
    "print(f\"Read sample annotation info with shape : {sample_annotation_df.shape}\")"
   ]
  },
  {
   "cell_type": "markdown",
   "metadata": {},
   "source": [
    "### combine the genotype matrix"
   ]
  },
  {
   "cell_type": "code",
   "execution_count": null,
   "metadata": {},
   "outputs": [],
   "source": [
    "merged_file_save_prefix = os.path.join(preprocess_path, \"merged\")"
   ]
  },
  {
   "cell_type": "code",
   "execution_count": null,
   "metadata": {},
   "outputs": [],
   "source": [
    "genotype_array_list, variant_info_df_list = [], []\n",
    "for chr in chr_list:\n",
    "    gt_array, variant_info_df = read_preprocessed_data(os.path.join(preprocess_path, f\"chr{chr}\"))\n",
    "    \n",
    "    if gt_array is not None:\n",
    "        genotype_array_list.append(gt_array)\n",
    "        variant_info_df_list.append(variant_info_df)\n",
    "\n",
    "genotype_array_combined = np.concatenate(genotype_array_list, axis=1)\n",
    "variant_info_df_combined = pd.concat(variant_info_df_list, axis=0, ignore_index=True)\n",
    "print(f\"Combine result: genotype array with shape {genotype_array_combined.shape} and variant info with shape {variant_info_df_combined.shape}\")"
   ]
  },
  {
   "cell_type": "code",
   "execution_count": null,
   "metadata": {},
   "outputs": [],
   "source": [
    "save_preprocessed_data(genotype_array_combined, variant_info_df_combined, merged_file_save_prefix)"
   ]
  },
  {
   "cell_type": "code",
   "execution_count": null,
   "metadata": {},
   "outputs": [],
   "source": []
  }
 ],
 "metadata": {
  "kernelspec": {
   "display_name": "jinhyun",
   "language": "python",
   "name": "python3"
  },
  "language_info": {
   "codemirror_mode": {
    "name": "ipython",
    "version": 3
   },
   "file_extension": ".py",
   "mimetype": "text/x-python",
   "name": "python",
   "nbconvert_exporter": "python",
   "pygments_lexer": "ipython3",
   "version": "3.9.0"
  }
 },
 "nbformat": 4,
 "nbformat_minor": 2
}
