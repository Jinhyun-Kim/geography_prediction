{
 "cells": [
  {
   "cell_type": "code",
   "execution_count": null,
   "metadata": {
    "vscode": {
     "languageId": "r"
    }
   },
   "outputs": [],
   "source": [
    "# IRkernel::installspec(user = FALSE)|"
   ]
  },
  {
   "cell_type": "code",
   "execution_count": null,
   "metadata": {
    "vscode": {
     "languageId": "r"
    }
   },
   "outputs": [],
   "source": [
    "library(RColorBrewer)\n",
    "library(readxl)\n",
    "library(ggplot2)\n",
    "library(dplyr)"
   ]
  },
  {
   "cell_type": "code",
   "execution_count": null,
   "metadata": {
    "vscode": {
     "languageId": "r"
    }
   },
   "outputs": [],
   "source": [
    "display.brewer.all(colorblindFriendly = TRUE)"
   ]
  },
  {
   "cell_type": "code",
   "execution_count": null,
   "metadata": {
    "vscode": {
     "languageId": "r"
    }
   },
   "outputs": [],
   "source": [
    "# display.brewer.pal(n = 8, name = 'Dark2')\n",
    "color_map_use = c(\"#2A363B\", RColorBrewer::brewer.pal(8, \"Dark2\"))\n",
    "color_map_use = c(\"#2A363B\", \"#355C7D\", \"#99B898\", \"#E84A5F\", \"#FF847C\", \"#FECEAB\")"
   ]
  },
  {
   "cell_type": "markdown",
   "metadata": {},
   "source": [
    "### Common: read data excel"
   ]
  },
  {
   "cell_type": "code",
   "execution_count": null,
   "metadata": {
    "vscode": {
     "languageId": "r"
    }
   },
   "outputs": [],
   "source": [
    "df_original = read_excel(\"/home/jinhyun/codes/geography_prediction/results/Geography prediction experiments.xlsx\", sheet = \"from_43M\")"
   ]
  },
  {
   "cell_type": "code",
   "execution_count": null,
   "metadata": {
    "vscode": {
     "languageId": "r"
    }
   },
   "outputs": [],
   "source": [
    "names(df_original)"
   ]
  },
  {
   "cell_type": "code",
   "execution_count": null,
   "metadata": {
    "vscode": {
     "languageId": "r"
    }
   },
   "outputs": [],
   "source": [
    "df = df_original %>% \n",
    "  mutate(plot_unit = interaction(random_seed, pre_select_method,\tn_pre_select,\tn_pre_select_goal, select_method, train_model),\n",
    "         select_method = factor(select_method, c(\"random\",\"xgb\", \"rf\", \"variance\", \"chi2\", \"f_classif\", \"fst\", \"af\"))) "
   ]
  },
  {
   "cell_type": "markdown",
   "metadata": {},
   "source": [
    "### Figure 2. Accuracy by n_select and selection method"
   ]
  },
  {
   "cell_type": "code",
   "execution_count": null,
   "metadata": {
    "vscode": {
     "languageId": "r"
    }
   },
   "outputs": [],
   "source": [
    "df_for_plot = df %>% \n",
    "  filter(train_model == \"SVM\", \n",
    "         pre_select_method == \"variance\", #variance, random\n",
    "         n_pre_select == 1000000,\n",
    "         # n_dim_reduced == 1024,\n",
    "         !(select_method %in% c(\"fst\", \"af\")),\n",
    "         select_n == n_dim_reduced\n",
    "\n",
    "        )\n",
    "\n",
    "\n",
    "p = ggplot(data = df_for_plot, aes(x = select_n, y = testset_accuracy, group = plot_unit, colour = select_method)) +\n",
    "  geom_line(linewidth = 1) +\n",
    "  xlab(\"# of features\") + \n",
    "  ylab(\"Testset Accuracy (%)\") +\n",
    "  scale_color_manual(values = color_map_use) +\n",
    "  scale_x_continuous(trans='log2') +\n",
    "  #scale_y_continuous(limits = c(0,1)) +\n",
    "  theme_bw() + \n",
    "  theme(panel.border = element_blank(), panel.grid.major = element_blank(),\n",
    "        panel.grid.minor = element_blank(), axis.line = element_line(colour = \"black\")); \n",
    "        print(p)"
   ]
  },
  {
   "cell_type": "code",
   "execution_count": null,
   "metadata": {
    "vscode": {
     "languageId": "r"
    }
   },
   "outputs": [],
   "source": [
    "df_for_plot_summary = df_for_plot %>%\n",
    "  group_by(pre_select_method, n_pre_select,\tn_pre_select_goal, select_n, select_method) %>%\n",
    "  mutate(target_val = testset_accuracy) %>%\n",
    "  # mutate(target_val = testset_f1_macro) %>%\n",
    "  summarise(\n",
    "    sd = sd(target_val),\n",
    "    sem = sd(target_val)/ sqrt(n()),\n",
    "    target_val = mean(target_val),\n",
    "    n = n()\n",
    "  )\n",
    "df_for_plot_summary %>% head()\n",
    "\n",
    "\n",
    "p = ggplot(data = df_for_plot, aes(x = select_n, y = target_val, colour = select_method)) +\n",
    "  # geom_jitter(position = position_jitter(0.2)) + \n",
    "  geom_line(aes(group = select_method),data = df_for_plot_summary) +\n",
    "  geom_errorbar(aes(ymin = target_val-sem, ymax = target_val+sem), data = df_for_plot_summary, width = 0.2)+\n",
    "  ggtitle(\"With pre-selection (variance)\") +\n",
    "  xlab(\"# of features selected\") + \n",
    "  ylab(\"Accuracy\") +\n",
    "  # ylab(\"Macro F1 score\") +\n",
    "  scale_color_manual(values = color_map_use) +\n",
    "  scale_x_continuous(trans='log2', breaks = c(100, 1000, 10000, 100000)) +\n",
    "  scale_y_continuous(limits = c(0.2,1)) +\n",
    "  theme_bw() + \n",
    "  theme(panel.border = element_blank(), panel.grid.major = element_blank(),\n",
    "        panel.grid.minor = element_blank(), axis.line = element_line(colour = \"black\")); \n",
    "print(p)\n",
    "\n",
    "ggsave(\"results/fig2_accuracy_by_select_n.pdf\", width=12, height=9, units = c(\"cm\"), dpi = 300)"
   ]
  },
  {
   "cell_type": "code",
   "execution_count": null,
   "metadata": {
    "vscode": {
     "languageId": "r"
    }
   },
   "outputs": [],
   "source": [
    "df %>% \n",
    "  filter(train_model == \"SVM\", \n",
    "         pre_select_method == \"variance\",\n",
    "         n_pre_select == 1000000,\n",
    "         # n_dim_reduced == 1024,\n",
    "         select_n == n_dim_reduced,\n",
    "         select_n <= 8192,\n",
    "        ) %>%\n",
    "  group_by(pre_select_method, n_pre_select,\tn_pre_select_goal, select_method) %>%\n",
    "  summarise(\n",
    "    sd = sd(testset_accuracy),\n",
    "    sem = sd(testset_accuracy)/ sqrt(n()),\n",
    "    testset_accuracy = mean(testset_accuracy),\n",
    "    n = n()\n",
    "  ) %>% arrange(-testset_accuracy)\n"
   ]
  },
  {
   "cell_type": "code",
   "execution_count": null,
   "metadata": {
    "vscode": {
     "languageId": "r"
    }
   },
   "outputs": [],
   "source": [
    "df %>% \n",
    "  filter(train_model == \"SVM\", \n",
    "        #  pre_select_method == \"variance\",\n",
    "         n_pre_select == 1000000,\n",
    "         # n_dim_reduced == 1024,\n",
    "         select_n == n_dim_reduced,\n",
    "         select_n == 128,\n",
    "        ) %>%\n",
    "  group_by(pre_select_method, n_pre_select,\tn_pre_select_goal, select_n, select_method) %>%\n",
    "  summarise(\n",
    "    sd = sd(testset_accuracy),\n",
    "    sem = sd(testset_accuracy)/ sqrt(n()),\n",
    "    testset_accuracy = mean(testset_accuracy),\n",
    "    n = n()\n",
    "  ) %>% arrange(-testset_accuracy)\n"
   ]
  },
  {
   "cell_type": "markdown",
   "metadata": {},
   "source": [
    "# Figure 2 bar plot"
   ]
  },
  {
   "cell_type": "code",
   "execution_count": null,
   "metadata": {
    "vscode": {
     "languageId": "r"
    }
   },
   "outputs": [],
   "source": [
    "df_for_plot = df %>% \n",
    "  filter(train_model == \"SVM\", \n",
    "         pre_select_method %in% c(\"random\", \"variance\", \"fst\", \"af\"),\n",
    "         n_pre_select == 1000000,\n",
    "         select_n == n_dim_reduced,\n",
    "         select_n <= 8192,\n",
    "         !(select_method %in% c(\"fst\", \"af\")),\n",
    "        ) %>% \n",
    "  mutate(pre_select_method = factor(pre_select_method, c(\"random\", \"variance\", \"fst\", \"af\")))\n",
    "\n",
    "df_for_plot_summary = df_for_plot %>%\n",
    "  group_by(pre_select_method, n_pre_select,\tn_pre_select_goal, select_method) %>%\n",
    "  summarise(\n",
    "    sd = sd(testset_accuracy),\n",
    "    sem = sd(testset_accuracy)/ sqrt(n()),\n",
    "    testset_accuracy = mean(testset_accuracy),\n",
    "    n = n()\n",
    "  )\n",
    "\n",
    "df_for_plot_summary %>% head(n = 20)\n",
    "\n",
    "p = ggplot(data = df_for_plot, aes(x = select_method, y = testset_accuracy, colour = pre_select_method, fill = pre_select_method)) +\n",
    "  geom_col(data = df_for_plot_summary, position = position_dodge(0.8), width = 0.65) +\n",
    "  # geom_jitter(position = position_jitterdodge(jitter.width = 0.2, dodge.width = 0.8), colour = \"black\") + \n",
    "  geom_errorbar(aes(ymin = testset_accuracy-sem, ymax = testset_accuracy+sem), data = df_for_plot_summary, width = 0.2, position = position_dodge(0.8), colour = \"black\")+\n",
    "  # ggtitle(\"After pre-selection\") +\n",
    "  xlab(\"Feature selection method\") + \n",
    "  ylab(\"Accuracy\") +\n",
    "  scale_color_manual(values = color_map_use) +\n",
    "  scale_fill_manual(values = color_map_use) +\n",
    "  # scale_x_continuous(trans='log2', breaks = c(100, 1000, 10000, 100000)) +\n",
    "  scale_y_continuous(limits = c(0,1)) +\n",
    "  theme_bw() + \n",
    "  theme(panel.border = element_blank(), panel.grid.major = element_blank(),\n",
    "        panel.grid.minor = element_blank(), axis.line = element_line(colour = \"black\")); \n",
    "print(p)\n",
    "\n",
    "ggsave(\"results/fig2_barplot.pdf\", width=14, height=9, units = c(\"cm\"), dpi = 300)"
   ]
  },
  {
   "cell_type": "markdown",
   "metadata": {},
   "source": [
    "# Fig2. By n_pre_select"
   ]
  },
  {
   "cell_type": "code",
   "execution_count": null,
   "metadata": {
    "vscode": {
     "languageId": "r"
    }
   },
   "outputs": [],
   "source": [
    "df_for_plot = df %>% \n",
    "  filter(train_model == \"SVM\", \n",
    "         pre_select_method %in% c(\"random\", \"variance\", \"fst\", \"af\"),\n",
    "         select_n == n_dim_reduced,\n",
    "         select_n == 128\n",
    "        ) %>%\n",
    "  mutate(pre_select_method = factor(pre_select_method, c(\"random\", \"variance\", \"fst\", \"af\")))\n",
    "\n",
    "df_for_plot_summary = df_for_plot %>%\n",
    "  group_by(pre_select_method, n_pre_select,\tn_pre_select_goal, select_n, select_method) %>%\n",
    "  summarise(\n",
    "    sd = sd(testset_accuracy),\n",
    "    sem = sd(testset_accuracy)/ sqrt(n()),\n",
    "    testset_accuracy = mean(testset_accuracy),\n",
    "    n = n()\n",
    "  )\n",
    "\n",
    "df_for_plot_summary %>% tail(10)\n",
    "\n",
    "p = ggplot(data = df_for_plot, aes(x = n_pre_select, y = testset_accuracy, colour = select_method)) +\n",
    "  geom_jitter(position = position_jitter(0.2)) + \n",
    "  geom_line(aes(group = select_method),data = df_for_plot_summary) +\n",
    "  geom_errorbar(aes(ymin = testset_accuracy-sem, ymax = testset_accuracy+sem), data = df_for_plot_summary, width = 0.2)+\n",
    "  ggtitle(\"Without pre-selection\") +\n",
    "  xlab(\"# of features selected\") + \n",
    "  ylab(\"Accuracy\") +\n",
    "  scale_color_manual(values = color_map_use) +\n",
    "  scale_x_continuous(trans='log2') + # breaks = c(100, 1000, 10000, 100000, 1e6, 1e7, 1e8)\n",
    "  scale_y_continuous(limits = c(0.2,1)) +\n",
    "  facet_grid(cols = vars(pre_select_method)) + \n",
    "  theme_bw() + \n",
    "  theme(panel.border = element_blank(), panel.grid.major = element_blank(),\n",
    "        panel.grid.minor = element_blank(), axis.line = element_line(colour = \"black\")); \n",
    "print(p)\n",
    "\n",
    "\n",
    "# ggsave(\"results/fig2_barplot.pdf\", width=14, height=9, units = c(\"cm\"), dpi = 300)"
   ]
  },
  {
   "cell_type": "markdown",
   "metadata": {},
   "source": [
    "# resource tables"
   ]
  },
  {
   "cell_type": "code",
   "execution_count": null,
   "metadata": {
    "vscode": {
     "languageId": "r"
    }
   },
   "outputs": [],
   "source": [
    "df %>% \n",
    "    filter(train_model == \"SVM\") %>%\n",
    "    filter(select_n %in% c(8192, 131072), n_dim_reduced == select_n, random_seed == 42) %>%\n",
    "    select(random_seed, select_method, starts_with(\"select\"), starts_with(\"train_\")) %>%\n",
    "    arrange(select_n, select_method)"
   ]
  },
  {
   "cell_type": "markdown",
   "metadata": {},
   "source": [
    "# hybrid feature selection"
   ]
  },
  {
   "cell_type": "code",
   "execution_count": null,
   "metadata": {
    "vscode": {
     "languageId": "r"
    }
   },
   "outputs": [],
   "source": [
    "df_hyb = read_excel(\"/home/jinhyun/codes/geography_prediction/results/Geography prediction experiments.xlsx\", sheet = \"results_hyb\") %>%\n",
    "    mutate(plot_unit = interaction(n_original, pre_selection, random_seed, select_method),\n",
    "        #    select_method = factor(paste(n_original, select_method))\n",
    "           ) "
   ]
  },
  {
   "cell_type": "code",
   "execution_count": null,
   "metadata": {
    "vscode": {
     "languageId": "r"
    }
   },
   "outputs": [],
   "source": [
    "df_for_plot = df_hyb %>% \n",
    "  filter(\n",
    "         select_n == 256,\n",
    "        #  select_method == \"xgb\", \n",
    "         pre_selection != 4000000\n",
    "        ) %>%\n",
    "  mutate(select_cpu_time = select_cpu_time / 60)\n"
   ]
  },
  {
   "cell_type": "code",
   "execution_count": null,
   "metadata": {
    "vscode": {
     "languageId": "r"
    }
   },
   "outputs": [],
   "source": [
    "df_for_plot_summary = df_for_plot %>%\n",
    "  group_by(pre_selection, select_n, select_method) %>%\n",
    "  summarise(\n",
    "    sd = sd(testset_accuracy),\n",
    "    sem = sd(testset_accuracy)/ sqrt(n()),\n",
    "    testset_accuracy = mean(testset_accuracy),\n",
    "    n = n()\n",
    ")\n",
    "\n",
    "p = ggplot(data = df_for_plot, aes(x = pre_selection, y = testset_accuracy, colour = select_method)) +\n",
    "  geom_jitter(position = position_jitter(0.2)) + \n",
    "  geom_line(aes(group = select_method),data = df_for_plot_summary) +\n",
    "  geom_errorbar(aes(ymin = testset_accuracy-sem, ymax = testset_accuracy+sem), data = df_for_plot_summary, width = 0.2)+\n",
    "  xlab(\"# of pre-selection features \") + \n",
    "  ylab(\"Accuracy\") +\n",
    "  scale_color_manual(values = color_map_use) +\n",
    "  scale_x_continuous(trans='log2', breaks = c(100, 1000, 10000, 100000, 1e6)) +\n",
    "  #scale_y_continuous(limits = c(0,1)) +\n",
    "  theme_bw() + \n",
    "  theme(panel.border = element_blank(), panel.grid.major = element_blank(),\n",
    "        panel.grid.minor = element_blank(), axis.line = element_line(colour = \"black\")); \n",
    "print(p)"
   ]
  },
  {
   "cell_type": "code",
   "execution_count": null,
   "metadata": {
    "vscode": {
     "languageId": "r"
    }
   },
   "outputs": [],
   "source": [
    "df_for_plot_summary = df_for_plot %>%\n",
    "  group_by(pre_selection, select_n, select_method) %>%\n",
    "  summarise(\n",
    "    sd = sd(select_cpu_time),\n",
    "    sem = sd(select_cpu_time)/ sqrt(n()),\n",
    "    select_cpu_time = mean(select_cpu_time),\n",
    "    n = n()\n",
    ")\n",
    "df_for_plot_summary %>% head\n",
    "\n",
    "p = ggplot(data = df_for_plot, aes(x = pre_selection, y = select_cpu_time, colour = select_method)) +\n",
    "  # geom_jitter(position = position_jitter(0.2)) + \n",
    "  geom_line(aes(group = select_method),data = df_for_plot_summary) +\n",
    "  geom_errorbar(aes(ymin = select_cpu_time-sem, ymax = select_cpu_time+sem), data = df_for_plot_summary, width = 0.2)+\n",
    "  xlab(\"# of features \") + \n",
    "  ylab(\"CPU Time for feature selection (hours)\") +\n",
    "  scale_color_manual(values = color_map_use) +\n",
    "  # scale_x_continuous(trans='log2', breaks = c(100, 1000, 10000, 100000, 1e6)) +\n",
    "  #scale_y_continuous(limits = c(0,1)) +\n",
    "  theme_bw() + \n",
    "  theme(panel.border = element_blank(), panel.grid.major = element_blank(),\n",
    "        panel.grid.minor = element_blank(), axis.line = element_line(colour = \"black\")); \n",
    "print(p)\n",
    "\n",
    "ggsave(\"results/fig2_CPU_time.pdf\", width=12, height=9, units = c(\"cm\"), dpi = 300)"
   ]
  },
  {
   "cell_type": "code",
   "execution_count": null,
   "metadata": {
    "vscode": {
     "languageId": "r"
    }
   },
   "outputs": [],
   "source": [
    "df_for_plot_summary = df_for_plot %>%\n",
    "  group_by(pre_selection, select_n, select_method) %>%\n",
    "  summarise(\n",
    "    sd = sd(select_memory_usage),\n",
    "    sem = sd(select_memory_usage)/ sqrt(n()),\n",
    "    select_memory_usage = mean(select_memory_usage),\n",
    "    n = n()\n",
    ")\n",
    " df_for_plot_summary %>% head\n",
    "\n",
    "p = ggplot(data = df_for_plot, aes(x = pre_selection, y = select_memory_usage, colour = select_method)) +\n",
    "  # geom_jitter(position = position_jitter(0.2)) + \n",
    "  geom_line(aes(group = select_method),data = df_for_plot_summary) +\n",
    "  geom_errorbar(aes(ymin = select_memory_usage-sem, ymax = select_memory_usage+sem), data = df_for_plot_summary, width = 0.2)+\n",
    "  xlab(\"# of features \") + \n",
    "  ylab(\"Peak memory for feature selection (GB)\") +\n",
    "  scale_color_manual(values = color_map_use) +\n",
    "  # scale_x_continuous(trans='log2', breaks = c(100, 1000, 10000, 100000, 1e6)) +\n",
    "  #scale_y_continuous(limits = c(0,1)) +\n",
    "  theme_bw() + \n",
    "  theme(panel.border = element_blank(), panel.grid.major = element_blank(),\n",
    "        panel.grid.minor = element_blank(), axis.line = element_line(colour = \"black\")); \n",
    "print(p)\n",
    "\n",
    "ggsave(\"results/fig2_mem.pdf\", width=12, height=9, units = c(\"cm\"), dpi = 300)"
   ]
  },
  {
   "cell_type": "code",
   "execution_count": null,
   "metadata": {
    "vscode": {
     "languageId": "r"
    }
   },
   "outputs": [],
   "source": [
    "\n",
    "p = ggplot(data = df_for_plot %>% filter(select_method  == \"xgb\"), aes(x = select_cpu_time, y = select_memory_usage, colour = factor(pre_selection))) +\n",
    "  # geom_jitter(position = position_jitter(0.2)) + \n",
    "  geom_point() + \n",
    "#   geom_line(aes(group = select_method),data = df_for_plot_summary) +\n",
    "#   geom_errorbar(aes(ymin = select_memory_usage-sem, ymax = select_memory_usage+sem), data = df_for_plot_summary, width = 0.2)+\n",
    "  ggtitle(\"Resources for features selection\") +\n",
    "  xlab(\"CPU time (hours)\") + \n",
    "  ylab(\"Peak memory (GB)\") +\n",
    "  scale_color_manual(values = color_map_use) +\n",
    "  # scale_x_continuous(trans='log2', breaks = c(100, 1000, 10000, 100000, 1e6)) +\n",
    "  #scale_y_continuous(limits = c(0,1)) +\n",
    "  theme_bw() + \n",
    "  theme(panel.border = element_blank(), panel.grid.major = element_blank(),\n",
    "        panel.grid.minor = element_blank(), axis.line = element_line(colour = \"black\")); \n",
    "print(p)\n",
    "ggsave(\"results/fig2_resources.pdf\", width=12, height=9, units = c(\"cm\"), dpi = 300)"
   ]
  },
  {
   "cell_type": "code",
   "execution_count": null,
   "metadata": {
    "vscode": {
     "languageId": "r"
    }
   },
   "outputs": [],
   "source": [
    "df_for_plot_summary = df_for_plot %>% filter(select_method == \"xgb\") %>%\n",
    "  group_by(pre_selection, select_n, select_method) %>%\n",
    "  summarise(\n",
    "    sd = sd(select_cpu_time),\n",
    "    sem = sd(select_cpu_time)/ sqrt(n()),\n",
    "    select_cpu_time = mean(select_cpu_time),\n",
    "    n = n()\n",
    ")\n",
    "df_for_plot_summary\n",
    "# lr_model = lm(pre_selection ~ select_memory_usage, data = df_for_plot_summary)\n",
    "# summary(lr_model)\n",
    "# plot(df_for_plot_summary$pre_selection, df_for_plot_summary$select_memory_usage, pch = 16, col = \"blue\") #Plot the results\n",
    "# abline(lr_model)\n",
    "# predict(lr_model)"
   ]
  },
  {
   "cell_type": "code",
   "execution_count": null,
   "metadata": {
    "vscode": {
     "languageId": "r"
    }
   },
   "outputs": [],
   "source": []
  },
  {
   "cell_type": "markdown",
   "metadata": {
    "vscode": {
     "languageId": "r"
    }
   },
   "source": [
    "# Fig 3a"
   ]
  },
  {
   "cell_type": "code",
   "execution_count": null,
   "metadata": {
    "vscode": {
     "languageId": "r"
    }
   },
   "outputs": [],
   "source": [
    "df_fig4 = read_excel(\"/home/jinhyun/codes/geography_prediction/results/Geography prediction experiments.xlsx\", sheet = \"from_43M_cls\")"
   ]
  },
  {
   "cell_type": "code",
   "execution_count": null,
   "metadata": {
    "vscode": {
     "languageId": "r"
    }
   },
   "outputs": [],
   "source": [
    "colnames(df_fig4)"
   ]
  },
  {
   "cell_type": "code",
   "execution_count": null,
   "metadata": {
    "vscode": {
     "languageId": "r"
    }
   },
   "outputs": [],
   "source": [
    "df_minimum_n_by_cls = df_fig4 %>% group_by(random_seed, class_target) %>%\n",
    "    mutate(max_f1 = max(testset_f1_macro)) %>%\n",
    "    filter(testset_f1_macro > (max_f1-0.02)) %>%\n",
    "    select(class_target, select_n, n_dim_reduced, testset_f1_macro, max_f1) %>%\n",
    "    summarise(select_n = min(select_n))\n",
    "df_minimum_n_by_cls %>% write.table(\"results/minimum_n_by_cls.csv\", sep = \",\")"
   ]
  },
  {
   "cell_type": "markdown",
   "metadata": {
    "vscode": {
     "languageId": "r"
    }
   },
   "source": [
    "# Supplementary figures\n",
    "\n",
    "## By encoding"
   ]
  },
  {
   "cell_type": "code",
   "execution_count": null,
   "metadata": {
    "vscode": {
     "languageId": "r"
    }
   },
   "outputs": [],
   "source": [
    "df_original = read_excel(\"/home/jinhyun/codes/geography_prediction/results/Geography prediction experiments.xlsx\", sheet = \"encoding_compare\")"
   ]
  },
  {
   "cell_type": "code",
   "execution_count": null,
   "metadata": {
    "vscode": {
     "languageId": "r"
    }
   },
   "outputs": [],
   "source": [
    "df_original %>% colnames"
   ]
  },
  {
   "cell_type": "code",
   "execution_count": null,
   "metadata": {
    "vscode": {
     "languageId": "r"
    }
   },
   "outputs": [],
   "source": [
    "df_original %>% group_by(encoding, kernel, random_seed, select_method, select_n, n_dim_reduced, train_model) %>%\n",
    "    summarise(n=n()) %>% nrow\n",
    "\n",
    "df = df_original %>% group_by(encoding, kernel, random_seed, select_method, select_n, n_dim_reduced, train_model) %>%\n",
    "    filter(valset_accuracy == max(valset_accuracy)) %>%\n",
    "    filter(trainset_accuracy == max(trainset_accuracy)) %>%\n",
    "    filter(testset_accuracy == max(testset_accuracy)) %>%\n",
    "    filter(row_number() == 1) \n",
    "df %>% nrow"
   ]
  },
  {
   "cell_type": "code",
   "execution_count": null,
   "metadata": {
    "vscode": {
     "languageId": "r"
    }
   },
   "outputs": [],
   "source": [
    "df_for_plot %>% nrow"
   ]
  },
  {
   "cell_type": "code",
   "execution_count": null,
   "metadata": {
    "vscode": {
     "languageId": "r"
    }
   },
   "outputs": [],
   "source": [
    "df_for_plot = df %>% \n",
    "  filter(train_model == \"SVM\", \n",
    "         select_method == \"random\",\n",
    "         select_n == n_dim_reduced,\n",
    "         !(encoding == \"boolean\" & kernel == \"sigmoid\"),\n",
    "        ) %>%\n",
    "  mutate(plot_unit = interaction(encoding, kernel, random_seed, select_method, train_model)) \n",
    "\n",
    "p = ggplot(data = df_for_plot, aes(x = select_n, y = testset_accuracy, group = plot_unit, colour = kernel)) +\n",
    "  geom_point(size = 2) +\n",
    "  geom_line(linewidth = 1, aes(linetype = encoding)) +\n",
    "  xlab(\"# of features\") + \n",
    "  ylab(\"Testset Accuracy\") +\n",
    "  scale_color_manual(values = color_map_use[c(2, 3, 4)]) +\n",
    "  scale_x_continuous(trans='log2') +\n",
    "  #scale_y_continuous(limits = c(0,1)) +\n",
    "  theme_bw() + \n",
    "  theme(panel.border = element_blank(), panel.grid.major = element_blank(),\n",
    "        panel.grid.minor = element_blank(), axis.line = element_line(colour = \"black\")); \n",
    "        print(p)\n",
    "  \n",
    "ggsave(\"results/fig_supp_encoding_and_kernel.pdf\", width=11, height=9, units = c(\"cm\"), dpi = 300)"
   ]
  },
  {
   "cell_type": "markdown",
   "metadata": {},
   "source": [
    "## By classifier"
   ]
  },
  {
   "cell_type": "code",
   "execution_count": null,
   "metadata": {
    "vscode": {
     "languageId": "r"
    }
   },
   "outputs": [],
   "source": [
    "df_for_plot = df %>% \n",
    "  filter(encoding == \"0-3\",\n",
    "         !(kernel %in% c(\"rbf\", \"sigmoid\")),\n",
    "         select_method == \"random\",\n",
    "         select_n == n_dim_reduced,\n",
    "         select_n %in% c(8192, 131072),\n",
    "        ) %>%\n",
    "  mutate(plot_unit = interaction(random_seed, select_method, train_model),\n",
    "         train_model = factor(train_model, c(\"SVM\", \"XGB\", \"RF\"))) \n",
    "\n",
    "p = ggplot(data = df_for_plot, aes(x = factor(select_n), y = testset_accuracy, colour = train_model, fill = train_model)) +\n",
    "  geom_col(position = position_dodge(0.8), width = 0.65) +\n",
    "#   geom_line(linewidth = 1) +\n",
    "  xlab(\"# of features\") + \n",
    "  ylab(\"Testset Accuracy\") +\n",
    "  scale_color_manual(values = color_map_use[c(2, 3, 4)]) +\n",
    "  scale_fill_manual(values = color_map_use[c(2, 3, 4)]) +\n",
    "  # scale_x_continuous(trans='log2') +\n",
    "  #scale_y_continuous(limits = c(0,1)) +\n",
    "  theme_bw() + \n",
    "  theme(panel.border = element_blank(), panel.grid.major = element_blank(),\n",
    "        panel.grid.minor = element_blank(), axis.line = element_line(colour = \"black\")); \n",
    "        print(p)\n",
    "\n",
    "  \n",
    "ggsave(\"results/fig_supp_by_classifier.pdf\", width=11, height=9, units = c(\"cm\"), dpi = 300)"
   ]
  },
  {
   "cell_type": "markdown",
   "metadata": {},
   "source": [
    "## By classifier #2"
   ]
  },
  {
   "cell_type": "code",
   "execution_count": null,
   "metadata": {
    "vscode": {
     "languageId": "r"
    }
   },
   "outputs": [],
   "source": [
    "df_original = read_excel(\"/home/jinhyun/codes/geography_prediction/results/Geography prediction experiments.xlsx\", sheet = \"from_43M\")"
   ]
  },
  {
   "cell_type": "code",
   "execution_count": null,
   "metadata": {
    "vscode": {
     "languageId": "r"
    }
   },
   "outputs": [],
   "source": [
    "df = df_original %>% \n",
    "  mutate(plot_unit = interaction(random_seed, pre_select_method,\tn_pre_select,\tn_pre_select_goal, select_method, train_model))\n",
    "\n",
    "df_for_plot = df %>% \n",
    "  filter(pre_select_method == \"variance\", #variance, random\n",
    "         select_method %in% c(\"random\"),\n",
    "         train_model != \"GBLUP\",\n",
    "         n_pre_select == 1000000,\n",
    "         select_n == n_dim_reduced\n",
    "        ) %>%\n",
    "  mutate(train_model = factor(train_model, c(\"SVM\", \"XGB\", \"RF\", \"SNP-BLUP\")))"
   ]
  },
  {
   "cell_type": "code",
   "execution_count": null,
   "metadata": {
    "vscode": {
     "languageId": "r"
    }
   },
   "outputs": [],
   "source": [
    "df_for_plot %>% \n",
    "    select(random_seed, pre_select_method,\tselect_n, select_method, train_model, testset_accuracy) %>%\n",
    "    arrange(random_seed, pre_select_method,\tselect_n, select_method, train_model) %>% head"
   ]
  },
  {
   "cell_type": "code",
   "execution_count": null,
   "metadata": {
    "vscode": {
     "languageId": "r"
    }
   },
   "outputs": [],
   "source": [
    "df_for_plot %>% select(random_seed, pre_select_method,\tselect_n, select_method, train_model, testset_accuracy) %>%\n",
    "    group_by(pre_select_method,\tselect_n, select_method, train_model) %>% summarise(n = n()) %>% head()"
   ]
  },
  {
   "cell_type": "code",
   "execution_count": null,
   "metadata": {
    "vscode": {
     "languageId": "r"
    }
   },
   "outputs": [],
   "source": [
    "df_for_plot_summary = df_for_plot %>%\n",
    "  group_by(pre_select_method, n_pre_select,\tn_pre_select_goal, select_n, select_method, train_model) %>%\n",
    "  mutate(target_val = testset_accuracy) %>%\n",
    "  # mutate(target_val = testset_f1_macro) %>%\n",
    "  summarise(\n",
    "    sd = sd(target_val),\n",
    "    sem = sd(target_val)/ sqrt(n()),\n",
    "    target_val = mean(target_val),\n",
    "    n = n()\n",
    "  )\n",
    "df_for_plot_summary %>% head()\n",
    "\n",
    "\n",
    "p = ggplot(data = df_for_plot, aes(x = select_n, y = target_val, colour = train_model)) +\n",
    "  geom_line(aes(group = train_model),data = df_for_plot_summary) +\n",
    "  geom_errorbar(aes(ymin = target_val-sem, ymax = target_val+sem), data = df_for_plot_summary, width = 0.2)+\n",
    "  xlab(\"# of features\") + \n",
    "  ylab(\"Testset Accuracy (%)\") +\n",
    "  scale_color_manual(values = color_map_use[c(2,3,4,1)]) +\n",
    "  scale_x_continuous(trans='log2', breaks = c(100, 1000, 10000, 100000)) +\n",
    "  scale_y_continuous(limits = c(0.2,1)) +\n",
    "  theme_bw() + \n",
    "  theme(panel.border = element_blank(), panel.grid.major = element_blank(),\n",
    "        panel.grid.minor = element_blank(), axis.line = element_line(colour = \"black\")); \n",
    "        print(p)\n",
    "\n",
    "\n",
    "ggsave(\"results/fig_supp_by_classifier.pdf\", width=12, height=9, units = c(\"cm\"), dpi = 300)"
   ]
  },
  {
   "cell_type": "code",
   "execution_count": null,
   "metadata": {
    "vscode": {
     "languageId": "r"
    }
   },
   "outputs": [],
   "source": []
  },
  {
   "cell_type": "code",
   "execution_count": null,
   "metadata": {
    "vscode": {
     "languageId": "r"
    }
   },
   "outputs": [],
   "source": []
  }
 ],
 "metadata": {
  "kernelspec": {
   "display_name": "R",
   "language": "R",
   "name": "ir"
  },
  "language_info": {
   "codemirror_mode": "r",
   "file_extension": ".r",
   "mimetype": "text/x-r-source",
   "name": "R",
   "pygments_lexer": "r",
   "version": "4.3.1"
  }
 },
 "nbformat": 4,
 "nbformat_minor": 2
}
