{
 "cells": [
  {
   "cell_type": "code",
   "execution_count": 1,
   "metadata": {},
   "outputs": [],
   "source": [
    "import os, logging\n",
    "import pandas as pd\n",
    "import numpy as np\n",
    "import seaborn as sns\n",
    "import matplotlib.pyplot as plt\n",
    "\n",
    "from helpers import get_ip_address, has_write_permission, SNPDataSet"
   ]
  },
  {
   "cell_type": "markdown",
   "metadata": {},
   "source": [
    "### Set variables"
   ]
  },
  {
   "cell_type": "code",
   "execution_count": 2,
   "metadata": {},
   "outputs": [],
   "source": [
    "data_locations = {\n",
    "    '223.195.111.48': '/project/datacamp/team11/data',\n",
    "    '147.47.44.229': '/home/jinhyun/data/1kGP',\n",
    "}\n",
    "\n",
    "chr_list = [str(x) for x in range(1,23)]\n",
    "gt_dict = {\"0|0\" :0, \"0|1\" : 1, \"1|0\" : 2, \"1|1\" : 3 } # genotype dict for converting string-> inteter "
   ]
  },
  {
   "cell_type": "markdown",
   "metadata": {},
   "source": [
    "### Validation checks"
   ]
  },
  {
   "cell_type": "code",
   "execution_count": 3,
   "metadata": {},
   "outputs": [],
   "source": [
    "raw_data_path = data_locations.get(get_ip_address(), '/not_found')\n",
    "sample_annotation_file = os.path.join(raw_data_path, \"igsr-1000 genomes 30x on grch38.tsv\")\n",
    "preprocess_path = os.path.join(raw_data_path, \"preprocessed\")\n",
    "\n",
    "assert os.path.exists(preprocess_path), f\"Data path not exists: {raw_data_path} OR IP setting is incorrect: {get_ip_address()}\"\n",
    "assert os.path.isfile(sample_annotation_file), f\"File not exists : {sample_annotation_file}\"\n",
    "assert has_write_permission(preprocess_path), f\"You do not have write permission for {preprocess_path}\""
   ]
  },
  {
   "cell_type": "code",
   "execution_count": 4,
   "metadata": {},
   "outputs": [
    {
     "name": "stdout",
     "output_type": "stream",
     "text": [
      "Read sample annotation info with shape : (3202, 9)\n"
     ]
    }
   ],
   "source": [
    "sample_annotation_df = pd.read_csv(sample_annotation_file, sep=\"\\t\")\n",
    "print(f\"Read sample annotation info with shape : {sample_annotation_df.shape}\")"
   ]
  },
  {
   "cell_type": "markdown",
   "metadata": {},
   "source": [
    "### data analysis and visualization"
   ]
  },
  {
   "cell_type": "code",
   "execution_count": 5,
   "metadata": {},
   "outputs": [],
   "source": [
    "target_data_file_prefix = os.path.join(preprocess_path, \"chr10\")"
   ]
  },
  {
   "cell_type": "code",
   "execution_count": 6,
   "metadata": {},
   "outputs": [
    {
     "name": "stdout",
     "output_type": "stream",
     "text": [
      "Reading data from files /home/jinhyun/data/1kGP/preprocessed/chr10_matrix.npy and /home/jinhyun/data/1kGP/preprocessed/chr10_variant.csv\n",
      "Read genotype array of shape (3202, 3044073) and variant info dataframe of shape (3044073, 4)\n",
      "\n",
      "genotype array shape (#samples, #features) : (3202, 3044073)\n",
      "sample annotations (#samples, ) : (3202, 9)\n",
      "variant info dataframe (#features, ): (3044073, 4)\n"
     ]
    }
   ],
   "source": [
    "snp_dataset = SNPDataSet.from_file(target_data_file_prefix, sample_annotation_df)\n",
    "\n",
    "print(f\"\\ngenotype array shape (#samples, #features) : {snp_dataset.genotype_array.shape}\")\n",
    "print(f\"sample annotations (#samples, ) : {snp_dataset.sample_annotation_df.shape}\")\n",
    "print(f\"variant info dataframe (#features, ): {snp_dataset.variant_info_df.shape}\")"
   ]
  },
  {
   "cell_type": "code",
   "execution_count": 7,
   "metadata": {},
   "outputs": [],
   "source": [
    "supporting_sample_count = (snp_dataset.genotype_array != 0).sum(axis = 0)"
   ]
  },
  {
   "cell_type": "code",
   "execution_count": 8,
   "metadata": {},
   "outputs": [
    {
     "data": {
      "image/png": "[encoded data removed]",
      "text/plain": [
       "<Figure size 640x480 with 1 Axes>"
      ]
     },
     "metadata": {},
     "output_type": "display_data"
    }
   ],
   "source": [
    "sns.histplot(supporting_sample_count / snp_dataset.genotype_array.shape[0], bins=100, kde=True)  # 'bins' controls the number of bins, 'kde' adds a Kernel Density Estimate plot\n",
    "\n",
    "#plt.xscale('log')\n",
    "#plt.xlim(xmin, xmax)\n",
    "\n",
    "plt.title('Histogram of Data')\n",
    "plt.xlabel('Population Allele Frequency')\n",
    "plt.ylabel('Frequency')\n",
    "\n",
    "plt.show()"
   ]
  },
  {
   "cell_type": "code",
   "execution_count": 9,
   "metadata": {},
   "outputs": [],
   "source": [
    "supporting_count_filter = supporting_sample_count > 5"
   ]
  },
  {
   "cell_type": "code",
   "execution_count": 10,
   "metadata": {},
   "outputs": [
    {
     "name": "stdout",
     "output_type": "stream",
     "text": [
      "This filter will retain 1534439 / 3044073 variants\n"
     ]
    }
   ],
   "source": [
    "print(f\"This filter will retain {supporting_count_filter.sum()} /\", snp_dataset.genotype_array.shape[1], \"variants\")"
   ]
  },
  {
   "cell_type": "code",
   "execution_count": 11,
   "metadata": {},
   "outputs": [
    {
     "name": "stdout",
     "output_type": "stream",
     "text": [
      "Filter variant retained 1534439 / 3044073\n"
     ]
    }
   ],
   "source": [
    "snp_dataset.filter_variant(supporting_count_filter)"
   ]
  },
  {
   "cell_type": "code",
   "execution_count": 12,
   "metadata": {},
   "outputs": [
    {
     "name": "stdout",
     "output_type": "stream",
     "text": [
      "genotype matrix shape (#samples, #features) : (3202, 1534439) -> saved to /home/jinhyun/data/1kGP/preprocessed/chr10_filtered_matrix.npy\n",
      "variant info dataframe (#features, ): (1534439, 4) -> saved to /home/jinhyun/data/1kGP/preprocessed/chr10_filtered_variant.csv\n"
     ]
    }
   ],
   "source": [
    "snp_dataset.save_data(os.path.join(preprocess_path, \"chr10_filtered\"))"
   ]
  },
  {
   "cell_type": "code",
   "execution_count": null,
   "metadata": {},
   "outputs": [],
   "source": []
  },
  {
   "cell_type": "code",
   "execution_count": 13,
   "metadata": {},
   "outputs": [
    {
     "data": {
      "text/plain": [
       "Superpopulation code\n",
       "AFR        893\n",
       "EUR        632\n",
       "SAS        601\n",
       "EAS        585\n",
       "AMR        490\n",
       "EUR,AFR      1\n",
       "Name: count, dtype: int64"
      ]
     },
     "execution_count": 13,
     "metadata": {},
     "output_type": "execute_result"
    }
   ],
   "source": [
    "sample_annotation_df[\"Superpopulation code\"].value_counts()\n",
    "# sample_annotation[\"Population name\"].value_counts()"
   ]
  },
  {
   "cell_type": "code",
   "execution_count": null,
   "metadata": {},
   "outputs": [],
   "source": []
  }
 ],
 "metadata": {
  "kernelspec": {
   "display_name": "jinhyun",
   "language": "python",
   "name": "python3"
  },
  "language_info": {
   "codemirror_mode": {
    "name": "ipython",
    "version": 3
   },
   "file_extension": ".py",
   "mimetype": "text/x-python",
   "name": "python",
   "nbconvert_exporter": "python",
   "pygments_lexer": "ipython3",
   "version": "3.9.0"
  }
 },
 "nbformat": 4,
 "nbformat_minor": 2
}
