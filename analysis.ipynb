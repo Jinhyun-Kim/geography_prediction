{
 "cells": [
  {
   "cell_type": "code",
   "execution_count": 1,
   "metadata": {},
   "outputs": [],
   "source": [
    "import os\n",
    "import pandas as pd\n",
    "import numpy as np\n",
    "import logging\n",
    "from tqdm import tqdm"
   ]
  },
  {
   "cell_type": "code",
   "execution_count": 2,
   "metadata": {},
   "outputs": [],
   "source": [
    "data_path = \"/project/datacamp/team11/data/preprocessed\"\n",
    "sample_annotation_file = os.path.join(data_path, \"..\", \"igsr-1000 genomes 30x on grch38.tsv\")\n",
    "chr_list = [str(x) for x in range(1,23)]\n",
    "gt_dict = {\"0|0\" :0, \"0|1\" : 1, \"1|0\" : 2, \"1|1\" : 3 } # genotype dict for converting string-> inteter \n",
    "\n",
    "sample_annotation = pd.read_csv(sample_annotation_file, sep=\"\\t\")"
   ]
  },
  {
   "cell_type": "markdown",
   "metadata": {},
   "source": [
    "### combine the matrix"
   ]
  },
  {
   "cell_type": "code",
   "execution_count": 3,
   "metadata": {},
   "outputs": [],
   "source": [
    "def read_data(path, target_name):\n",
    "    mat_file_name = os.path.join(path, f\"{target_name}_matrix.npy\")\n",
    "    variant_info_file_name = os.path.join(path, f\"{target_name}_variant.csv\")\n",
    "    if (not os.path.isfile(mat_file_name)) or (not os.path.isfile(variant_info_file_name)):\n",
    "        logging.warning(f\"can not find preprocessed file for chromosome {chr}\")\n",
    "        return;\n",
    "\n",
    "    gt_mat = np.load(mat_file_name)\n",
    "    variant_info_df = pd.read_csv(variant_info_file_name, dtype = str)\n",
    "    assert gt_mat.shape[1] == variant_info_df.shape[0]\n",
    "    assert gt_mat.shape[0] == sample_annotation.shape[0]\n",
    "\n",
    "    return gt_mat, variant_info_df\n",
    "\n",
    "\n",
    "#for chr in chr_list:\n",
    "#    read_data(output_path, f\"chr{chr}\")\n"
   ]
  },
  {
   "cell_type": "markdown",
   "metadata": {},
   "source": [
    "### data analysis and visualization"
   ]
  },
  {
   "cell_type": "code",
   "execution_count": 4,
   "metadata": {},
   "outputs": [],
   "source": [
    "import seaborn as sns\n",
    "import matplotlib.pyplot as plt"
   ]
  },
  {
   "cell_type": "code",
   "execution_count": 6,
   "metadata": {},
   "outputs": [
    {
     "name": "stdout",
     "output_type": "stream",
     "text": [
      "genotype matrix shape (#samples, #features) : (3202, 925730)\n",
      "sample annotations (#samples, ) : (3202, 9)\n",
      "variant info dataframe (#features, ): (925730, 4)\n"
     ]
    }
   ],
   "source": [
    "gt_mat, variant_info_df = read_data(data_path, f\"chr22\")\n",
    "\n",
    "print(f\"genotype matrix shape (#samples, #features) : {gt_mat.shape}\")\n",
    "print(f\"sample annotations (#samples, ) : {sample_annotation.shape}\")\n",
    "print(f\"variant info dataframe (#features, ): {variant_info_df.shape}\")"
   ]
  },
  {
   "cell_type": "code",
   "execution_count": 17,
   "metadata": {},
   "outputs": [],
   "source": [
    "supporting_sample_count = (gt_mat != 0).sum(axis = 0)\n",
    "supporting_count_filter = supporting_sample_count > 5"
   ]
  },
  {
   "cell_type": "code",
   "execution_count": 18,
   "metadata": {},
   "outputs": [
    {
     "data": {
      "text/plain": [
       "(465580, (925730,))"
      ]
     },
     "execution_count": 18,
     "metadata": {},
     "output_type": "execute_result"
    }
   ],
   "source": [
    "supporting_count_filter.sum(), supporting_count_filter.shape"
   ]
  },
  {
   "cell_type": "code",
   "execution_count": 20,
   "metadata": {},
   "outputs": [
    {
     "data": {
      "text/plain": [
       "Superpopulation code\n",
       "AFR        893\n",
       "EUR        632\n",
       "SAS        601\n",
       "EAS        585\n",
       "AMR        490\n",
       "EUR,AFR      1\n",
       "Name: count, dtype: int64"
      ]
     },
     "execution_count": 20,
     "metadata": {},
     "output_type": "execute_result"
    }
   ],
   "source": [
    "sample_annotation[\"Superpopulation code\"].value_counts()\n",
    "# sample_annotation[\"Population name\"].value_counts()"
   ]
  },
  {
   "cell_type": "code",
   "execution_count": 24,
   "metadata": {},
   "outputs": [
    {
     "data": {
      "image/png": "[encoded data removed]",
      "text/plain": [
       "<Figure size 640x480 with 1 Axes>"
      ]
     },
     "metadata": {},
     "output_type": "display_data"
    }
   ],
   "source": [
    "sns.histplot(supporting_sample_count, bins=10000, kde=True)  # 'bins' controls the number of bins, 'kde' adds a Kernel Density Estimate plot\n",
    "\n",
    "plt.xscale('log')\n",
    "\n",
    "plt.title('Histogram of Data')\n",
    "plt.xlabel('Value')\n",
    "plt.ylabel('Frequency')\n",
    "\n",
    "plt.show()"
   ]
  },
  {
   "cell_type": "code",
   "execution_count": null,
   "metadata": {},
   "outputs": [],
   "source": []
  }
 ],
 "metadata": {
  "kernelspec": {
   "display_name": "jinhyun",
   "language": "python",
   "name": "python3"
  },
  "language_info": {
   "codemirror_mode": {
    "name": "ipython",
    "version": 3
   },
   "file_extension": ".py",
   "mimetype": "text/x-python",
   "name": "python",
   "nbconvert_exporter": "python",
   "pygments_lexer": "ipython3",
   "version": "3.9.18"
  }
 },
 "nbformat": 4,
 "nbformat_minor": 2
}
